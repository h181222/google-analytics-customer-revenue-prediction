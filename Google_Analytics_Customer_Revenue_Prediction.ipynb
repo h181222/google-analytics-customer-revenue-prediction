{
  "nbformat": 4,
  "nbformat_minor": 0,
  "metadata": {
    "colab": {
      "name": "Google-Analytics Customer Revenue Prediction.ipynb",
      "version": "0.3.2",
      "provenance": [],
      "collapsed_sections": []
    },
    "kernelspec": {
      "name": "python3",
      "display_name": "Python 3"
    },
    "accelerator": "GPU"
  },
  "cells": [
    {
      "metadata": {
        "id": "cZssowQq7guf",
        "colab_type": "text"
      },
      "cell_type": "markdown",
      "source": [
        "# Google Analytics Customer Revenue Prediction"
      ]
    },
    {
      "metadata": {
        "id": "g6fihvAA9iPn",
        "colab_type": "text"
      },
      "cell_type": "markdown",
      "source": [
        ""
      ]
    },
    {
      "metadata": {
        "id": "F1KfHHBX7UZk",
        "colab_type": "text"
      },
      "cell_type": "markdown",
      "source": [
        "1. Frame the problem and look at the big picture\n",
        "2. Get the data\n",
        "3. Explore the data to gain insights\n",
        "4. Prepare the data to better expose the underlying data patterns to machine learning algorithms\n",
        "5. Explore many different models and short-list the best ones\n",
        "6. Fine-tune your models and combine them into a great solution\n",
        "7. Present your solution\n",
        "8. Launch, monitor and maintain your system"
      ]
    },
    {
      "metadata": {
        "id": "f02T0oGW8FwJ",
        "colab_type": "text"
      },
      "cell_type": "markdown",
      "source": [
        "## 1. Framstille problemstillingen og se på det store bilde"
      ]
    },
    {
      "metadata": {
        "id": "5-fAfrPNuwd1",
        "colab_type": "text"
      },
      "cell_type": "markdown",
      "source": [
        ""
      ]
    },
    {
      "metadata": {
        "id": "gCErWLhb8MAC",
        "colab_type": "text"
      },
      "cell_type": "markdown",
      "source": [
        "80/20-regelen har vist seg sann for mange bedrifter - bare en liten prosentandel av kundene produserer det meste av inntektene. Derfor utfordres markedsføringsteam til å foreta hensiktsmessige investeringer i salgsfremmende strategier.\n",
        "\n",
        "I denne notebooken skal vi analysere et Google Merchandise Store-datasett (også kjent som GStore), for å forutsi omsetning per kunde. Vi har fått tildelt et datasett som inneholder informasjon om hver bruker som har besøkt nettsiden.\n",
        "\n",
        "Her vil vi se på om det er en sammenheng mellom informasjonen og handlingene til kunden, og bruke dette til å kunne estimere hvor stor omsetning GStore vil få fra en enkelt kunde.\n",
        "\n",
        "Prosjektet baserer seg på den pågående konkurransen på Kaggle: https://www.kaggle.com/c/ga-customer-revenue-prediction. Dette betyr at vi har fått et forhåndsdefinert datasett og testsett. "
      ]
    },
    {
      "metadata": {
        "id": "5dUsykFUyTn7",
        "colab_type": "text"
      },
      "cell_type": "markdown",
      "source": [
        "Her er formelen som blir brukt for submission score:\n",
        "![Scoremetode](https://i.imgur.com/2jsWyx4.png)\n",
        "\n",
        "Der y-hatt er den naturlige logaritmen av den predictede inntekten, mens y er den naturlige logaritmen av intektssummen pluss en."
      ]
    },
    {
      "metadata": {
        "id": "dv_qTOpo7o5v",
        "colab_type": "text"
      },
      "cell_type": "markdown",
      "source": [
        "Under ligger funksjonsbeskrivelser for hvert objekt i datasettet:\n",
        "\n",
        "*   channelGrouping - Kanalen brukeren kom til GStore gjennom.\n",
        "*   date - Datoen brukeren besøkte GStore.\n",
        "*   device - Spesifikasjonene for enheten som brukeren brukte for å gå inn på GStore.\n",
        "* fullVisitorId - En unik identifikator for hver bruker av Google Merchandise Store.\n",
        "* geoNetwork - Denne delen inneholder informasjon om brukerens geografi.\n",
        "* sessionId - En unik identifikator for dette besøket i butikken.\n",
        "* socialEngagementType - Engagement type, enten \"Socially Engaged\" eller \"Not Socially Engaged\".\n",
        "* totals - Denne delen inneholder samlede verdier fra hele sesjonen.\n",
        "* trafficSource - Denne delen inneholder informasjon om trafikkilden som sesjonen kommer fra.\n",
        "* visitId - En identifikator for denne sesjonen. Dette er en del av verdien som vanligvis lagres som en _utmb-informasjonskapsel. Dette er bare unikt for brukeren. For en helt unik ID, bør du bruke en kombinasjon av fullVisitorId og visitId.\n",
        "* visitNumber - Sesjonsnummeret for denne brukeren. Hvis dette er den første sesjonen, er dette satt til 1.\n",
        "* visitStartTime - Tidsstempelet (uttrykt som POSIX-tid).\n",
        "\n"
      ]
    },
    {
      "metadata": {
        "id": "H7kSL8NQ8Jog",
        "colab_type": "text"
      },
      "cell_type": "markdown",
      "source": [
        "### 1.5 Setup"
      ]
    },
    {
      "metadata": {
        "id": "JoGd3t-j2mtT",
        "colab_type": "text"
      },
      "cell_type": "markdown",
      "source": [
        "Implementering og installering av alle biblotekene vi vil få bruk for i notebooken:\n"
      ]
    },
    {
      "metadata": {
        "id": "U99Jco0akmO1",
        "colab_type": "code",
        "outputId": "a4385ece-328b-4c9a-fe56-907e63407840",
        "colab": {
          "base_uri": "https://localhost:8080/",
          "height": 833
        }
      },
      "cell_type": "code",
      "source": [
        "!pip install lightgbm\n",
        "!pip install pandas --upgrade\n",
        "!pip install sklearn --upgrade\n",
        "!pip install seaborn --upgrade\n",
        "!pip install xgboost\n",
        "\n",
        "import os\n",
        "import json\n",
        "import numpy as np\n",
        "import pandas as pd\n",
        "from pandas.io.json import json_normalize\n",
        "import matplotlib.pyplot as plt\n",
        "import seaborn as sns\n",
        "color = sns.color_palette()\n",
        "\n",
        "%matplotlib inline\n",
        "\n",
        "from plotly import tools\n",
        "import plotly.offline as py\n",
        "py.init_notebook_mode(connected=True)\n",
        "import plotly.graph_objs as go\n",
        "\n",
        "from sklearn import model_selection, preprocessing, metrics\n",
        "import lightgbm as lgb\n",
        "\n",
        "import xgboost as xgb\n",
        "\n",
        "pd.options.mode.chained_assignment = None\n",
        "pd.options.display.max_columns = 999\n",
        "import datetime\n",
        "\n",
        "from google.colab import drive\n",
        "\n",
        "from sklearn import metrics\n",
        "from sklearn.metrics import confusion_matrix\n",
        "from sklearn.metrics import mean_squared_error\n",
        "\n"
      ],
      "execution_count": 0,
      "outputs": [
        {
          "output_type": "stream",
          "text": [
            "Collecting lightgbm\n",
            "\u001b[?25l  Downloading https://files.pythonhosted.org/packages/4c/3b/4ae113193b4ee01387ed76d5eea32788aec0589df9ae7378a8b7443eaa8b/lightgbm-2.2.2-py2.py3-none-manylinux1_x86_64.whl (1.2MB)\n",
            "\u001b[K    100% |████████████████████████████████| 1.2MB 15.7MB/s \n",
            "\u001b[?25hRequirement already satisfied: numpy in /usr/local/lib/python3.6/dist-packages (from lightgbm) (1.14.6)\n",
            "Requirement already satisfied: scipy in /usr/local/lib/python3.6/dist-packages (from lightgbm) (1.1.0)\n",
            "Requirement already satisfied: scikit-learn in /usr/local/lib/python3.6/dist-packages (from lightgbm) (0.19.2)\n",
            "Installing collected packages: lightgbm\n",
            "Successfully installed lightgbm-2.2.2\n",
            "Collecting pandas\n",
            "\u001b[?25l  Downloading https://files.pythonhosted.org/packages/e1/d8/feeb346d41f181e83fba45224ab14a8d8af019b48af742e047f3845d8cff/pandas-0.23.4-cp36-cp36m-manylinux1_x86_64.whl (8.9MB)\n",
            "\u001b[K    100% |████████████████████████████████| 8.9MB 4.2MB/s \n",
            "\u001b[?25hRequirement already satisfied, skipping upgrade: pytz>=2011k in /usr/local/lib/python3.6/dist-packages (from pandas) (2018.7)\n",
            "Requirement already satisfied, skipping upgrade: python-dateutil>=2.5.0 in /usr/local/lib/python3.6/dist-packages (from pandas) (2.5.3)\n",
            "Requirement already satisfied, skipping upgrade: numpy>=1.9.0 in /usr/local/lib/python3.6/dist-packages (from pandas) (1.14.6)\n",
            "Requirement already satisfied, skipping upgrade: six>=1.5 in /usr/local/lib/python3.6/dist-packages (from python-dateutil>=2.5.0->pandas) (1.11.0)\n",
            "Installing collected packages: pandas\n",
            "  Found existing installation: pandas 0.22.0\n",
            "    Uninstalling pandas-0.22.0:\n",
            "      Successfully uninstalled pandas-0.22.0\n",
            "Successfully installed pandas-0.23.4\n",
            "Collecting sklearn\n",
            "  Downloading https://files.pythonhosted.org/packages/1e/7a/dbb3be0ce9bd5c8b7e3d87328e79063f8b263b2b1bfa4774cb1147bfcd3f/sklearn-0.0.tar.gz\n",
            "Requirement already satisfied, skipping upgrade: scikit-learn in /usr/local/lib/python3.6/dist-packages (from sklearn) (0.19.2)\n",
            "Building wheels for collected packages: sklearn\n",
            "  Running setup.py bdist_wheel for sklearn ... \u001b[?25l-\b \bdone\n",
            "\u001b[?25h  Stored in directory: /root/.cache/pip/wheels/76/03/bb/589d421d27431bcd2c6da284d5f2286c8e3b2ea3cf1594c074\n",
            "Successfully built sklearn\n",
            "Installing collected packages: sklearn\n",
            "Successfully installed sklearn-0.0\n",
            "Collecting seaborn\n",
            "\u001b[?25l  Downloading https://files.pythonhosted.org/packages/a8/76/220ba4420459d9c4c9c9587c6ce607bf56c25b3d3d2de62056efe482dadc/seaborn-0.9.0-py3-none-any.whl (208kB)\n",
            "\u001b[K    100% |████████████████████████████████| 215kB 22.8MB/s \n",
            "\u001b[?25hRequirement already satisfied, skipping upgrade: pandas>=0.15.2 in /usr/local/lib/python3.6/dist-packages (from seaborn) (0.23.4)\n",
            "Requirement already satisfied, skipping upgrade: matplotlib>=1.4.3 in /usr/local/lib/python3.6/dist-packages (from seaborn) (2.1.2)\n",
            "Requirement already satisfied, skipping upgrade: numpy>=1.9.3 in /usr/local/lib/python3.6/dist-packages (from seaborn) (1.14.6)\n",
            "Requirement already satisfied, skipping upgrade: scipy>=0.14.0 in /usr/local/lib/python3.6/dist-packages (from seaborn) (1.1.0)\n",
            "Requirement already satisfied, skipping upgrade: python-dateutil>=2.5.0 in /usr/local/lib/python3.6/dist-packages (from pandas>=0.15.2->seaborn) (2.5.3)\n",
            "Requirement already satisfied, skipping upgrade: pytz>=2011k in /usr/local/lib/python3.6/dist-packages (from pandas>=0.15.2->seaborn) (2018.7)\n",
            "Requirement already satisfied, skipping upgrade: pyparsing!=2.0.4,!=2.1.2,!=2.1.6,>=2.0.1 in /usr/local/lib/python3.6/dist-packages (from matplotlib>=1.4.3->seaborn) (2.3.0)\n",
            "Requirement already satisfied, skipping upgrade: cycler>=0.10 in /usr/local/lib/python3.6/dist-packages (from matplotlib>=1.4.3->seaborn) (0.10.0)\n",
            "Requirement already satisfied, skipping upgrade: six>=1.10 in /usr/local/lib/python3.6/dist-packages (from matplotlib>=1.4.3->seaborn) (1.11.0)\n",
            "Installing collected packages: seaborn\n",
            "  Found existing installation: seaborn 0.7.1\n",
            "    Uninstalling seaborn-0.7.1:\n",
            "      Successfully uninstalled seaborn-0.7.1\n",
            "Successfully installed seaborn-0.9.0\n",
            "Requirement already satisfied: xgboost in /usr/local/lib/python3.6/dist-packages (0.7.post4)\n",
            "Requirement already satisfied: numpy in /usr/local/lib/python3.6/dist-packages (from xgboost) (1.14.6)\n",
            "Requirement already satisfied: scipy in /usr/local/lib/python3.6/dist-packages (from xgboost) (1.1.0)\n"
          ],
          "name": "stdout"
        },
        {
          "output_type": "display_data",
          "data": {
            "text/html": [
              "<script>requirejs.config({paths: { 'plotly': ['https://cdn.plot.ly/plotly-latest.min']},});if(!window.Plotly) {{require(['plotly'],function(plotly) {window.Plotly=plotly;});}}</script>"
            ],
            "text/plain": [
              "<IPython.core.display.HTML object>"
            ]
          },
          "metadata": {
            "tags": []
          }
        }
      ]
    },
    {
      "metadata": {
        "id": "BxLzbW1-8SrE",
        "colab_type": "text"
      },
      "cell_type": "markdown",
      "source": [
        "## 2. Importering av data"
      ]
    },
    {
      "metadata": {
        "id": "In2Y3FYU282h",
        "colab_type": "text"
      },
      "cell_type": "markdown",
      "source": [
        "Ettersom dette var en gruppeoppgave på 3 personer fant vi ut at det var lettere og bedre å hente datasettet inviduelt fra Google Drive. På denne måten forsikret vi at alle jobbet med samme datasett og at dataen blir importert på samme måte."
      ]
    },
    {
      "metadata": {
        "id": "tZ69yPf3kznB",
        "colab_type": "code",
        "outputId": "08f2465d-a525-4879-fce7-f91d38ae7a71",
        "colab": {
          "base_uri": "https://localhost:8080/",
          "height": 120
        }
      },
      "cell_type": "code",
      "source": [
        "drive.mount('/content/drive')"
      ],
      "execution_count": 0,
      "outputs": [
        {
          "output_type": "stream",
          "text": [
            "Go to this URL in a browser: https://accounts.google.com/o/oauth2/auth?client_id=947318989803-6bn6qk8qdgf4n4g3pfee6491hc0brc4i.apps.googleusercontent.com&redirect_uri=urn%3Aietf%3Awg%3Aoauth%3A2.0%3Aoob&scope=email%20https%3A%2F%2Fwww.googleapis.com%2Fauth%2Fdocs.test%20https%3A%2F%2Fwww.googleapis.com%2Fauth%2Fdrive%20https%3A%2F%2Fwww.googleapis.com%2Fauth%2Fdrive.photos.readonly%20https%3A%2F%2Fwww.googleapis.com%2Fauth%2Fpeopleapi.readonly&response_type=code\n",
            "\n",
            "Enter your authorization code:\n",
            "··········\n",
            "Mounted at /content/drive\n"
          ],
          "name": "stdout"
        }
      ]
    },
    {
      "metadata": {
        "id": "h_d7x8o03Th1",
        "colab_type": "text"
      },
      "cell_type": "markdown",
      "source": [
        "Funksjon under importerer datasettet fra Google Drive. Dataen vi henter er lagret som JSON-objekter og trenger derfor å bli konvertert til et pandas-dataframe for at det skal være mulig for oss å bruke det i modellene vi har satt opp. Funksjonen flater også ut objektene."
      ]
    },
    {
      "metadata": {
        "id": "ACg-INtwkzr-",
        "colab_type": "code",
        "colab": {}
      },
      "cell_type": "code",
      "source": [
        "def load_df(csv_path='drive/My Drive/input/train.csv', nrows=None):\n",
        "    JSON_COLUMNS = ['device', 'geoNetwork', 'totals', 'trafficSource']\n",
        "    \n",
        "    df = pd.read_csv(csv_path, \n",
        "                     converters={column: json.loads for column in JSON_COLUMNS}, \n",
        "                     dtype={'fullVisitorId': 'str'}, # Important!!\n",
        "                     nrows=nrows)\n",
        "    \n",
        "    for column in JSON_COLUMNS:\n",
        "        column_as_df = json_normalize(list(df[column]))\n",
        "        column_as_df.columns = [f\"{column}.{subcolumn}\" for subcolumn in column_as_df.columns]\n",
        "        df = df.drop(column, axis=1).merge(column_as_df, right_index=True, left_index=True)\n",
        "    print(f\"Loaded {os.path.basename(csv_path)}. Shape: {df.shape}\")\n",
        "    return df"
      ],
      "execution_count": 0,
      "outputs": []
    },
    {
      "metadata": {
        "id": "2S_-6t1S3v-f",
        "colab_type": "text"
      },
      "cell_type": "markdown",
      "source": [
        "Laster inn datasettene ved å bruke metoden vi definerte over, %time tar tiden på dette:\n"
      ]
    },
    {
      "metadata": {
        "id": "tvAgGP3Nktzv",
        "colab_type": "code",
        "outputId": "5e8f959b-6f16-4312-abb0-85984c0d48e4",
        "colab": {
          "base_uri": "https://localhost:8080/",
          "height": 83
        }
      },
      "cell_type": "code",
      "source": [
        "%%time\n",
        "train_df = load_df()\n",
        "test_df = load_df(\"drive/My Drive/input/test.csv\")"
      ],
      "execution_count": 0,
      "outputs": [
        {
          "output_type": "stream",
          "text": [
            "Loaded train.csv. Shape: (903653, 55)\n",
            "Loaded test.csv. Shape: (804684, 53)\n",
            "CPU times: user 2min 45s, sys: 12.5 s, total: 2min 58s\n",
            "Wall time: 3min 15s\n"
          ],
          "name": "stdout"
        }
      ]
    },
    {
      "metadata": {
        "id": "rdO_WLfr4Ic0",
        "colab_type": "text"
      },
      "cell_type": "markdown",
      "source": [
        "For å forsikre oss om at datasettet ble importert på rett måte går vi igjennom de 5 første radene til datasettet:"
      ]
    },
    {
      "metadata": {
        "id": "aaQHTpRskzuX",
        "colab_type": "code",
        "outputId": "0a9db164-e6b8-4f20-bf79-8c3033c236ba",
        "colab": {
          "base_uri": "https://localhost:8080/",
          "height": 301
        }
      },
      "cell_type": "code",
      "source": [
        "train_df.head()"
      ],
      "execution_count": 0,
      "outputs": [
        {
          "output_type": "execute_result",
          "data": {
            "text/html": [
              "<div>\n",
              "<style scoped>\n",
              "    .dataframe tbody tr th:only-of-type {\n",
              "        vertical-align: middle;\n",
              "    }\n",
              "\n",
              "    .dataframe tbody tr th {\n",
              "        vertical-align: top;\n",
              "    }\n",
              "\n",
              "    .dataframe thead th {\n",
              "        text-align: right;\n",
              "    }\n",
              "</style>\n",
              "<table border=\"1\" class=\"dataframe\">\n",
              "  <thead>\n",
              "    <tr style=\"text-align: right;\">\n",
              "      <th></th>\n",
              "      <th>channelGrouping</th>\n",
              "      <th>date</th>\n",
              "      <th>fullVisitorId</th>\n",
              "      <th>sessionId</th>\n",
              "      <th>socialEngagementType</th>\n",
              "      <th>visitId</th>\n",
              "      <th>visitNumber</th>\n",
              "      <th>visitStartTime</th>\n",
              "      <th>device.browser</th>\n",
              "      <th>device.browserSize</th>\n",
              "      <th>device.browserVersion</th>\n",
              "      <th>device.deviceCategory</th>\n",
              "      <th>device.flashVersion</th>\n",
              "      <th>device.isMobile</th>\n",
              "      <th>device.language</th>\n",
              "      <th>device.mobileDeviceBranding</th>\n",
              "      <th>device.mobileDeviceInfo</th>\n",
              "      <th>device.mobileDeviceMarketingName</th>\n",
              "      <th>device.mobileDeviceModel</th>\n",
              "      <th>device.mobileInputSelector</th>\n",
              "      <th>device.operatingSystem</th>\n",
              "      <th>device.operatingSystemVersion</th>\n",
              "      <th>device.screenColors</th>\n",
              "      <th>device.screenResolution</th>\n",
              "      <th>geoNetwork.city</th>\n",
              "      <th>geoNetwork.cityId</th>\n",
              "      <th>geoNetwork.continent</th>\n",
              "      <th>geoNetwork.country</th>\n",
              "      <th>geoNetwork.latitude</th>\n",
              "      <th>geoNetwork.longitude</th>\n",
              "      <th>geoNetwork.metro</th>\n",
              "      <th>geoNetwork.networkDomain</th>\n",
              "      <th>geoNetwork.networkLocation</th>\n",
              "      <th>geoNetwork.region</th>\n",
              "      <th>geoNetwork.subContinent</th>\n",
              "      <th>totals.bounces</th>\n",
              "      <th>totals.hits</th>\n",
              "      <th>totals.newVisits</th>\n",
              "      <th>totals.pageviews</th>\n",
              "      <th>totals.transactionRevenue</th>\n",
              "      <th>totals.visits</th>\n",
              "      <th>trafficSource.adContent</th>\n",
              "      <th>trafficSource.adwordsClickInfo.adNetworkType</th>\n",
              "      <th>trafficSource.adwordsClickInfo.criteriaParameters</th>\n",
              "      <th>trafficSource.adwordsClickInfo.gclId</th>\n",
              "      <th>trafficSource.adwordsClickInfo.isVideoAd</th>\n",
              "      <th>trafficSource.adwordsClickInfo.page</th>\n",
              "      <th>trafficSource.adwordsClickInfo.slot</th>\n",
              "      <th>trafficSource.campaign</th>\n",
              "      <th>trafficSource.campaignCode</th>\n",
              "      <th>trafficSource.isTrueDirect</th>\n",
              "      <th>trafficSource.keyword</th>\n",
              "      <th>trafficSource.medium</th>\n",
              "      <th>trafficSource.referralPath</th>\n",
              "      <th>trafficSource.source</th>\n",
              "    </tr>\n",
              "  </thead>\n",
              "  <tbody>\n",
              "    <tr>\n",
              "      <th>0</th>\n",
              "      <td>Organic Search</td>\n",
              "      <td>20160902</td>\n",
              "      <td>1131660440785968503</td>\n",
              "      <td>1131660440785968503_1472830385</td>\n",
              "      <td>Not Socially Engaged</td>\n",
              "      <td>1472830385</td>\n",
              "      <td>1</td>\n",
              "      <td>1472830385</td>\n",
              "      <td>Chrome</td>\n",
              "      <td>not available in demo dataset</td>\n",
              "      <td>not available in demo dataset</td>\n",
              "      <td>desktop</td>\n",
              "      <td>not available in demo dataset</td>\n",
              "      <td>False</td>\n",
              "      <td>not available in demo dataset</td>\n",
              "      <td>not available in demo dataset</td>\n",
              "      <td>not available in demo dataset</td>\n",
              "      <td>not available in demo dataset</td>\n",
              "      <td>not available in demo dataset</td>\n",
              "      <td>not available in demo dataset</td>\n",
              "      <td>Windows</td>\n",
              "      <td>not available in demo dataset</td>\n",
              "      <td>not available in demo dataset</td>\n",
              "      <td>not available in demo dataset</td>\n",
              "      <td>Izmir</td>\n",
              "      <td>not available in demo dataset</td>\n",
              "      <td>Asia</td>\n",
              "      <td>Turkey</td>\n",
              "      <td>not available in demo dataset</td>\n",
              "      <td>not available in demo dataset</td>\n",
              "      <td>(not set)</td>\n",
              "      <td>ttnet.com.tr</td>\n",
              "      <td>not available in demo dataset</td>\n",
              "      <td>Izmir</td>\n",
              "      <td>Western Asia</td>\n",
              "      <td>1</td>\n",
              "      <td>1</td>\n",
              "      <td>1</td>\n",
              "      <td>1</td>\n",
              "      <td>NaN</td>\n",
              "      <td>1</td>\n",
              "      <td>NaN</td>\n",
              "      <td>NaN</td>\n",
              "      <td>not available in demo dataset</td>\n",
              "      <td>NaN</td>\n",
              "      <td>NaN</td>\n",
              "      <td>NaN</td>\n",
              "      <td>NaN</td>\n",
              "      <td>(not set)</td>\n",
              "      <td>NaN</td>\n",
              "      <td>NaN</td>\n",
              "      <td>(not provided)</td>\n",
              "      <td>organic</td>\n",
              "      <td>NaN</td>\n",
              "      <td>google</td>\n",
              "    </tr>\n",
              "    <tr>\n",
              "      <th>1</th>\n",
              "      <td>Organic Search</td>\n",
              "      <td>20160902</td>\n",
              "      <td>377306020877927890</td>\n",
              "      <td>377306020877927890_1472880147</td>\n",
              "      <td>Not Socially Engaged</td>\n",
              "      <td>1472880147</td>\n",
              "      <td>1</td>\n",
              "      <td>1472880147</td>\n",
              "      <td>Firefox</td>\n",
              "      <td>not available in demo dataset</td>\n",
              "      <td>not available in demo dataset</td>\n",
              "      <td>desktop</td>\n",
              "      <td>not available in demo dataset</td>\n",
              "      <td>False</td>\n",
              "      <td>not available in demo dataset</td>\n",
              "      <td>not available in demo dataset</td>\n",
              "      <td>not available in demo dataset</td>\n",
              "      <td>not available in demo dataset</td>\n",
              "      <td>not available in demo dataset</td>\n",
              "      <td>not available in demo dataset</td>\n",
              "      <td>Macintosh</td>\n",
              "      <td>not available in demo dataset</td>\n",
              "      <td>not available in demo dataset</td>\n",
              "      <td>not available in demo dataset</td>\n",
              "      <td>not available in demo dataset</td>\n",
              "      <td>not available in demo dataset</td>\n",
              "      <td>Oceania</td>\n",
              "      <td>Australia</td>\n",
              "      <td>not available in demo dataset</td>\n",
              "      <td>not available in demo dataset</td>\n",
              "      <td>not available in demo dataset</td>\n",
              "      <td>dodo.net.au</td>\n",
              "      <td>not available in demo dataset</td>\n",
              "      <td>not available in demo dataset</td>\n",
              "      <td>Australasia</td>\n",
              "      <td>1</td>\n",
              "      <td>1</td>\n",
              "      <td>1</td>\n",
              "      <td>1</td>\n",
              "      <td>NaN</td>\n",
              "      <td>1</td>\n",
              "      <td>NaN</td>\n",
              "      <td>NaN</td>\n",
              "      <td>not available in demo dataset</td>\n",
              "      <td>NaN</td>\n",
              "      <td>NaN</td>\n",
              "      <td>NaN</td>\n",
              "      <td>NaN</td>\n",
              "      <td>(not set)</td>\n",
              "      <td>NaN</td>\n",
              "      <td>NaN</td>\n",
              "      <td>(not provided)</td>\n",
              "      <td>organic</td>\n",
              "      <td>NaN</td>\n",
              "      <td>google</td>\n",
              "    </tr>\n",
              "    <tr>\n",
              "      <th>2</th>\n",
              "      <td>Organic Search</td>\n",
              "      <td>20160902</td>\n",
              "      <td>3895546263509774583</td>\n",
              "      <td>3895546263509774583_1472865386</td>\n",
              "      <td>Not Socially Engaged</td>\n",
              "      <td>1472865386</td>\n",
              "      <td>1</td>\n",
              "      <td>1472865386</td>\n",
              "      <td>Chrome</td>\n",
              "      <td>not available in demo dataset</td>\n",
              "      <td>not available in demo dataset</td>\n",
              "      <td>desktop</td>\n",
              "      <td>not available in demo dataset</td>\n",
              "      <td>False</td>\n",
              "      <td>not available in demo dataset</td>\n",
              "      <td>not available in demo dataset</td>\n",
              "      <td>not available in demo dataset</td>\n",
              "      <td>not available in demo dataset</td>\n",
              "      <td>not available in demo dataset</td>\n",
              "      <td>not available in demo dataset</td>\n",
              "      <td>Windows</td>\n",
              "      <td>not available in demo dataset</td>\n",
              "      <td>not available in demo dataset</td>\n",
              "      <td>not available in demo dataset</td>\n",
              "      <td>Madrid</td>\n",
              "      <td>not available in demo dataset</td>\n",
              "      <td>Europe</td>\n",
              "      <td>Spain</td>\n",
              "      <td>not available in demo dataset</td>\n",
              "      <td>not available in demo dataset</td>\n",
              "      <td>(not set)</td>\n",
              "      <td>unknown.unknown</td>\n",
              "      <td>not available in demo dataset</td>\n",
              "      <td>Community of Madrid</td>\n",
              "      <td>Southern Europe</td>\n",
              "      <td>1</td>\n",
              "      <td>1</td>\n",
              "      <td>1</td>\n",
              "      <td>1</td>\n",
              "      <td>NaN</td>\n",
              "      <td>1</td>\n",
              "      <td>NaN</td>\n",
              "      <td>NaN</td>\n",
              "      <td>not available in demo dataset</td>\n",
              "      <td>NaN</td>\n",
              "      <td>NaN</td>\n",
              "      <td>NaN</td>\n",
              "      <td>NaN</td>\n",
              "      <td>(not set)</td>\n",
              "      <td>NaN</td>\n",
              "      <td>NaN</td>\n",
              "      <td>(not provided)</td>\n",
              "      <td>organic</td>\n",
              "      <td>NaN</td>\n",
              "      <td>google</td>\n",
              "    </tr>\n",
              "    <tr>\n",
              "      <th>3</th>\n",
              "      <td>Organic Search</td>\n",
              "      <td>20160902</td>\n",
              "      <td>4763447161404445595</td>\n",
              "      <td>4763447161404445595_1472881213</td>\n",
              "      <td>Not Socially Engaged</td>\n",
              "      <td>1472881213</td>\n",
              "      <td>1</td>\n",
              "      <td>1472881213</td>\n",
              "      <td>UC Browser</td>\n",
              "      <td>not available in demo dataset</td>\n",
              "      <td>not available in demo dataset</td>\n",
              "      <td>desktop</td>\n",
              "      <td>not available in demo dataset</td>\n",
              "      <td>False</td>\n",
              "      <td>not available in demo dataset</td>\n",
              "      <td>not available in demo dataset</td>\n",
              "      <td>not available in demo dataset</td>\n",
              "      <td>not available in demo dataset</td>\n",
              "      <td>not available in demo dataset</td>\n",
              "      <td>not available in demo dataset</td>\n",
              "      <td>Linux</td>\n",
              "      <td>not available in demo dataset</td>\n",
              "      <td>not available in demo dataset</td>\n",
              "      <td>not available in demo dataset</td>\n",
              "      <td>not available in demo dataset</td>\n",
              "      <td>not available in demo dataset</td>\n",
              "      <td>Asia</td>\n",
              "      <td>Indonesia</td>\n",
              "      <td>not available in demo dataset</td>\n",
              "      <td>not available in demo dataset</td>\n",
              "      <td>not available in demo dataset</td>\n",
              "      <td>unknown.unknown</td>\n",
              "      <td>not available in demo dataset</td>\n",
              "      <td>not available in demo dataset</td>\n",
              "      <td>Southeast Asia</td>\n",
              "      <td>1</td>\n",
              "      <td>1</td>\n",
              "      <td>1</td>\n",
              "      <td>1</td>\n",
              "      <td>NaN</td>\n",
              "      <td>1</td>\n",
              "      <td>NaN</td>\n",
              "      <td>NaN</td>\n",
              "      <td>not available in demo dataset</td>\n",
              "      <td>NaN</td>\n",
              "      <td>NaN</td>\n",
              "      <td>NaN</td>\n",
              "      <td>NaN</td>\n",
              "      <td>(not set)</td>\n",
              "      <td>NaN</td>\n",
              "      <td>NaN</td>\n",
              "      <td>google + online</td>\n",
              "      <td>organic</td>\n",
              "      <td>NaN</td>\n",
              "      <td>google</td>\n",
              "    </tr>\n",
              "    <tr>\n",
              "      <th>4</th>\n",
              "      <td>Organic Search</td>\n",
              "      <td>20160902</td>\n",
              "      <td>27294437909732085</td>\n",
              "      <td>27294437909732085_1472822600</td>\n",
              "      <td>Not Socially Engaged</td>\n",
              "      <td>1472822600</td>\n",
              "      <td>2</td>\n",
              "      <td>1472822600</td>\n",
              "      <td>Chrome</td>\n",
              "      <td>not available in demo dataset</td>\n",
              "      <td>not available in demo dataset</td>\n",
              "      <td>mobile</td>\n",
              "      <td>not available in demo dataset</td>\n",
              "      <td>True</td>\n",
              "      <td>not available in demo dataset</td>\n",
              "      <td>not available in demo dataset</td>\n",
              "      <td>not available in demo dataset</td>\n",
              "      <td>not available in demo dataset</td>\n",
              "      <td>not available in demo dataset</td>\n",
              "      <td>not available in demo dataset</td>\n",
              "      <td>Android</td>\n",
              "      <td>not available in demo dataset</td>\n",
              "      <td>not available in demo dataset</td>\n",
              "      <td>not available in demo dataset</td>\n",
              "      <td>not available in demo dataset</td>\n",
              "      <td>not available in demo dataset</td>\n",
              "      <td>Europe</td>\n",
              "      <td>United Kingdom</td>\n",
              "      <td>not available in demo dataset</td>\n",
              "      <td>not available in demo dataset</td>\n",
              "      <td>not available in demo dataset</td>\n",
              "      <td>unknown.unknown</td>\n",
              "      <td>not available in demo dataset</td>\n",
              "      <td>not available in demo dataset</td>\n",
              "      <td>Northern Europe</td>\n",
              "      <td>1</td>\n",
              "      <td>1</td>\n",
              "      <td>NaN</td>\n",
              "      <td>1</td>\n",
              "      <td>NaN</td>\n",
              "      <td>1</td>\n",
              "      <td>NaN</td>\n",
              "      <td>NaN</td>\n",
              "      <td>not available in demo dataset</td>\n",
              "      <td>NaN</td>\n",
              "      <td>NaN</td>\n",
              "      <td>NaN</td>\n",
              "      <td>NaN</td>\n",
              "      <td>(not set)</td>\n",
              "      <td>NaN</td>\n",
              "      <td>True</td>\n",
              "      <td>(not provided)</td>\n",
              "      <td>organic</td>\n",
              "      <td>NaN</td>\n",
              "      <td>google</td>\n",
              "    </tr>\n",
              "  </tbody>\n",
              "</table>\n",
              "</div>"
            ],
            "text/plain": [
              "  channelGrouping      date        fullVisitorId  \\\n",
              "0  Organic Search  20160902  1131660440785968503   \n",
              "1  Organic Search  20160902   377306020877927890   \n",
              "2  Organic Search  20160902  3895546263509774583   \n",
              "3  Organic Search  20160902  4763447161404445595   \n",
              "4  Organic Search  20160902    27294437909732085   \n",
              "\n",
              "                        sessionId  socialEngagementType     visitId  \\\n",
              "0  1131660440785968503_1472830385  Not Socially Engaged  1472830385   \n",
              "1   377306020877927890_1472880147  Not Socially Engaged  1472880147   \n",
              "2  3895546263509774583_1472865386  Not Socially Engaged  1472865386   \n",
              "3  4763447161404445595_1472881213  Not Socially Engaged  1472881213   \n",
              "4    27294437909732085_1472822600  Not Socially Engaged  1472822600   \n",
              "\n",
              "   visitNumber  visitStartTime device.browser             device.browserSize  \\\n",
              "0            1      1472830385         Chrome  not available in demo dataset   \n",
              "1            1      1472880147        Firefox  not available in demo dataset   \n",
              "2            1      1472865386         Chrome  not available in demo dataset   \n",
              "3            1      1472881213     UC Browser  not available in demo dataset   \n",
              "4            2      1472822600         Chrome  not available in demo dataset   \n",
              "\n",
              "           device.browserVersion device.deviceCategory  \\\n",
              "0  not available in demo dataset               desktop   \n",
              "1  not available in demo dataset               desktop   \n",
              "2  not available in demo dataset               desktop   \n",
              "3  not available in demo dataset               desktop   \n",
              "4  not available in demo dataset                mobile   \n",
              "\n",
              "             device.flashVersion  device.isMobile  \\\n",
              "0  not available in demo dataset            False   \n",
              "1  not available in demo dataset            False   \n",
              "2  not available in demo dataset            False   \n",
              "3  not available in demo dataset            False   \n",
              "4  not available in demo dataset             True   \n",
              "\n",
              "                 device.language    device.mobileDeviceBranding  \\\n",
              "0  not available in demo dataset  not available in demo dataset   \n",
              "1  not available in demo dataset  not available in demo dataset   \n",
              "2  not available in demo dataset  not available in demo dataset   \n",
              "3  not available in demo dataset  not available in demo dataset   \n",
              "4  not available in demo dataset  not available in demo dataset   \n",
              "\n",
              "         device.mobileDeviceInfo device.mobileDeviceMarketingName  \\\n",
              "0  not available in demo dataset    not available in demo dataset   \n",
              "1  not available in demo dataset    not available in demo dataset   \n",
              "2  not available in demo dataset    not available in demo dataset   \n",
              "3  not available in demo dataset    not available in demo dataset   \n",
              "4  not available in demo dataset    not available in demo dataset   \n",
              "\n",
              "        device.mobileDeviceModel     device.mobileInputSelector  \\\n",
              "0  not available in demo dataset  not available in demo dataset   \n",
              "1  not available in demo dataset  not available in demo dataset   \n",
              "2  not available in demo dataset  not available in demo dataset   \n",
              "3  not available in demo dataset  not available in demo dataset   \n",
              "4  not available in demo dataset  not available in demo dataset   \n",
              "\n",
              "  device.operatingSystem  device.operatingSystemVersion  \\\n",
              "0                Windows  not available in demo dataset   \n",
              "1              Macintosh  not available in demo dataset   \n",
              "2                Windows  not available in demo dataset   \n",
              "3                  Linux  not available in demo dataset   \n",
              "4                Android  not available in demo dataset   \n",
              "\n",
              "             device.screenColors        device.screenResolution  \\\n",
              "0  not available in demo dataset  not available in demo dataset   \n",
              "1  not available in demo dataset  not available in demo dataset   \n",
              "2  not available in demo dataset  not available in demo dataset   \n",
              "3  not available in demo dataset  not available in demo dataset   \n",
              "4  not available in demo dataset  not available in demo dataset   \n",
              "\n",
              "                 geoNetwork.city              geoNetwork.cityId  \\\n",
              "0                          Izmir  not available in demo dataset   \n",
              "1  not available in demo dataset  not available in demo dataset   \n",
              "2                         Madrid  not available in demo dataset   \n",
              "3  not available in demo dataset  not available in demo dataset   \n",
              "4  not available in demo dataset  not available in demo dataset   \n",
              "\n",
              "  geoNetwork.continent geoNetwork.country            geoNetwork.latitude  \\\n",
              "0                 Asia             Turkey  not available in demo dataset   \n",
              "1              Oceania          Australia  not available in demo dataset   \n",
              "2               Europe              Spain  not available in demo dataset   \n",
              "3                 Asia          Indonesia  not available in demo dataset   \n",
              "4               Europe     United Kingdom  not available in demo dataset   \n",
              "\n",
              "            geoNetwork.longitude               geoNetwork.metro  \\\n",
              "0  not available in demo dataset                      (not set)   \n",
              "1  not available in demo dataset  not available in demo dataset   \n",
              "2  not available in demo dataset                      (not set)   \n",
              "3  not available in demo dataset  not available in demo dataset   \n",
              "4  not available in demo dataset  not available in demo dataset   \n",
              "\n",
              "  geoNetwork.networkDomain     geoNetwork.networkLocation  \\\n",
              "0             ttnet.com.tr  not available in demo dataset   \n",
              "1              dodo.net.au  not available in demo dataset   \n",
              "2          unknown.unknown  not available in demo dataset   \n",
              "3          unknown.unknown  not available in demo dataset   \n",
              "4          unknown.unknown  not available in demo dataset   \n",
              "\n",
              "               geoNetwork.region geoNetwork.subContinent totals.bounces  \\\n",
              "0                          Izmir            Western Asia              1   \n",
              "1  not available in demo dataset             Australasia              1   \n",
              "2            Community of Madrid         Southern Europe              1   \n",
              "3  not available in demo dataset          Southeast Asia              1   \n",
              "4  not available in demo dataset         Northern Europe              1   \n",
              "\n",
              "  totals.hits totals.newVisits totals.pageviews totals.transactionRevenue  \\\n",
              "0           1                1                1                       NaN   \n",
              "1           1                1                1                       NaN   \n",
              "2           1                1                1                       NaN   \n",
              "3           1                1                1                       NaN   \n",
              "4           1              NaN                1                       NaN   \n",
              "\n",
              "  totals.visits trafficSource.adContent  \\\n",
              "0             1                     NaN   \n",
              "1             1                     NaN   \n",
              "2             1                     NaN   \n",
              "3             1                     NaN   \n",
              "4             1                     NaN   \n",
              "\n",
              "  trafficSource.adwordsClickInfo.adNetworkType  \\\n",
              "0                                          NaN   \n",
              "1                                          NaN   \n",
              "2                                          NaN   \n",
              "3                                          NaN   \n",
              "4                                          NaN   \n",
              "\n",
              "  trafficSource.adwordsClickInfo.criteriaParameters  \\\n",
              "0                     not available in demo dataset   \n",
              "1                     not available in demo dataset   \n",
              "2                     not available in demo dataset   \n",
              "3                     not available in demo dataset   \n",
              "4                     not available in demo dataset   \n",
              "\n",
              "  trafficSource.adwordsClickInfo.gclId  \\\n",
              "0                                  NaN   \n",
              "1                                  NaN   \n",
              "2                                  NaN   \n",
              "3                                  NaN   \n",
              "4                                  NaN   \n",
              "\n",
              "  trafficSource.adwordsClickInfo.isVideoAd  \\\n",
              "0                                      NaN   \n",
              "1                                      NaN   \n",
              "2                                      NaN   \n",
              "3                                      NaN   \n",
              "4                                      NaN   \n",
              "\n",
              "  trafficSource.adwordsClickInfo.page trafficSource.adwordsClickInfo.slot  \\\n",
              "0                                 NaN                                 NaN   \n",
              "1                                 NaN                                 NaN   \n",
              "2                                 NaN                                 NaN   \n",
              "3                                 NaN                                 NaN   \n",
              "4                                 NaN                                 NaN   \n",
              "\n",
              "  trafficSource.campaign trafficSource.campaignCode  \\\n",
              "0              (not set)                        NaN   \n",
              "1              (not set)                        NaN   \n",
              "2              (not set)                        NaN   \n",
              "3              (not set)                        NaN   \n",
              "4              (not set)                        NaN   \n",
              "\n",
              "  trafficSource.isTrueDirect trafficSource.keyword trafficSource.medium  \\\n",
              "0                        NaN        (not provided)              organic   \n",
              "1                        NaN        (not provided)              organic   \n",
              "2                        NaN        (not provided)              organic   \n",
              "3                        NaN       google + online              organic   \n",
              "4                       True        (not provided)              organic   \n",
              "\n",
              "  trafficSource.referralPath trafficSource.source  \n",
              "0                        NaN               google  \n",
              "1                        NaN               google  \n",
              "2                        NaN               google  \n",
              "3                        NaN               google  \n",
              "4                        NaN               google  "
            ]
          },
          "metadata": {
            "tags": []
          },
          "execution_count": 5
        }
      ]
    },
    {
      "metadata": {
        "id": "RJaFtLQZxYXG",
        "colab_type": "text"
      },
      "cell_type": "markdown",
      "source": [
        "## 3. Utforske dataen man har fått tildelt og se unike mønstre"
      ]
    },
    {
      "metadata": {
        "id": "wSKhs25n8TC9",
        "colab_type": "text"
      },
      "cell_type": "markdown",
      "source": [
        "Det vi starter med er å se nærmere på selve objektet vi prøver å estimere resultatet til. Det man fort ser er at det ikke er så mange som faktisk bruker penger på butikken (20% av besøkende). Dette beviser hvorfor vi prøver å finne ut hvor mye neste bruker kommer til å bruke slik at Google kan vurdere å bruke mer energi på dem som faktisk bruker penger på Google-utstyr.\n",
        "\n",
        "Grafen under bekrefter 80/20-regelen:"
      ]
    },
    {
      "metadata": {
        "id": "_o54VS4bruLO",
        "colab_type": "code",
        "outputId": "43434afd-9232-4180-8e6f-83ec12507374",
        "colab": {
          "base_uri": "https://localhost:8080/",
          "height": 390
        }
      },
      "cell_type": "code",
      "source": [
        "train_df[\"totals.transactionRevenue\"] = train_df[\"totals.transactionRevenue\"].astype('float')\n",
        "gdf = train_df.groupby(\"fullVisitorId\")[\"totals.transactionRevenue\"].sum().reset_index()\n",
        "\n",
        "plt.figure(figsize=(8,6))\n",
        "plt.scatter(range(gdf.shape[0]), np.sort(np.log1p(gdf[\"totals.transactionRevenue\"].values)))\n",
        "plt.xlabel('index', fontsize=12)\n",
        "plt.ylabel('TransactionRevenue', fontsize=12)\n",
        "plt.show()"
      ],
      "execution_count": 0,
      "outputs": [
        {
          "output_type": "display_data",
          "data": {
            "image/png": "[encoded data removed]",
            "text/plain": [
              "<matplotlib.figure.Figure at 0x7f4b1c21f828>"
            ]
          },
          "metadata": {
            "tags": []
          }
        }
      ]
    },
    {
      "metadata": {
        "id": "xDUhOJQY3AgT",
        "colab_type": "code",
        "outputId": "18fecc26-c1c3-4f2d-9cbf-93217b33b214",
        "colab": {
          "base_uri": "https://localhost:8080/",
          "height": 166
        }
      },
      "cell_type": "code",
      "source": [
        "train_df[\"date\"].describe()"
      ],
      "execution_count": 0,
      "outputs": [
        {
          "output_type": "execute_result",
          "data": {
            "text/plain": [
              "count    9.036530e+05\n",
              "mean     2.016589e+07\n",
              "std      4.697698e+03\n",
              "min      2.016080e+07\n",
              "25%      2.016103e+07\n",
              "50%      2.017011e+07\n",
              "75%      2.017042e+07\n",
              "max      2.017080e+07\n",
              "Name: date, dtype: float64"
            ]
          },
          "metadata": {
            "tags": []
          },
          "execution_count": 7
        }
      ]
    },
    {
      "metadata": {
        "id": "X-90qJ2T592o",
        "colab_type": "text"
      },
      "cell_type": "markdown",
      "source": [
        "Ved hjelp av funksjonen over kan vi se at date inneholder float-objekter som vi ikke kan bruke videre i koden for å skrive ut grafer og evaluere datasettet. \n",
        "\n",
        "Vi må derfor konvertere date til et datetime-objekt. For å gjøre dette bruker vi en lambda-funksjon på datoene for å separere:"
      ]
    },
    {
      "metadata": {
        "id": "uib-eBdq5_Yd",
        "colab_type": "code",
        "colab": {}
      },
      "cell_type": "code",
      "source": [
        "test_df['date'] = test_df['date'].apply(lambda x: datetime.date(int(str(x)[:4]), int(str(x)[4:6]), int(str(x)[6:])))\n",
        "train_df['date'] = train_df['date'].apply(lambda x: datetime.date(int(str(x)[:4]), int(str(x)[4:6]), int(str(x)[6:])))"
      ],
      "execution_count": 0,
      "outputs": []
    },
    {
      "metadata": {
        "id": "ydc5c4g7-JZ0",
        "colab_type": "text"
      },
      "cell_type": "markdown",
      "source": [
        "Under kan vi se at de nye dato-objektet faktisk ble datoer. Ved hjelp av dette kan vi bruke denne informasjonen til å se nærmere på når det ble brukt mest penger."
      ]
    },
    {
      "metadata": {
        "id": "5Fur5O3z6hAU",
        "colab_type": "code",
        "outputId": "ac148c8e-75c0-4d3e-a8c2-46132b685d46",
        "colab": {
          "base_uri": "https://localhost:8080/",
          "height": 100
        }
      },
      "cell_type": "code",
      "source": [
        "train_df[\"date\"].describe()"
      ],
      "execution_count": 0,
      "outputs": [
        {
          "output_type": "execute_result",
          "data": {
            "text/plain": [
              "count         903653\n",
              "unique           366\n",
              "top       2016-11-28\n",
              "freq            4807\n",
              "Name: date, dtype: object"
            ]
          },
          "metadata": {
            "tags": []
          },
          "execution_count": 9
        }
      ]
    },
    {
      "metadata": {
        "id": "_73hbJtzJTfq",
        "colab_type": "text"
      },
      "cell_type": "markdown",
      "source": [
        "Under har vi en graf som viser den daglige omsetningen over tid. Man ser at grafen har kraftige høydepunkter til noen satte tider. Med denne informasjonen må vi passe på at modellen ikke blir påvirket for kraftig av disse og overfitter ny data."
      ]
    },
    {
      "metadata": {
        "id": "0ZlQNYJ_t7_u",
        "colab_type": "code",
        "outputId": "404d1bb4-2095-4e9f-9a8a-693d613dd5ca",
        "colab": {
          "base_uri": "https://localhost:8080/",
          "height": 636
        }
      },
      "cell_type": "code",
      "source": [
        "revenue_datetime_df = train_df[[\"totals.transactionRevenue\" , \"date\"]].dropna()\n",
        "\n",
        "daily_revenue_df = revenue_datetime_df.groupby(by=[\"date\"],axis = 0 ).sum()\n",
        "#import matplotlib.pyplot as plt\n",
        "fig, axes = plt.subplots(figsize=(20,10))\n",
        "axes.set_title(\"Daglig omsetning\")\n",
        "axes.set_ylabel(\"Omsetning\")\n",
        "axes.set_xlabel(\"Dato\")\n",
        "axes.plot(daily_revenue_df[\"totals.transactionRevenue\"])"
      ],
      "execution_count": 0,
      "outputs": [
        {
          "output_type": "execute_result",
          "data": {
            "text/plain": [
              "[<matplotlib.lines.Line2D at 0x7f4b1c289048>]"
            ]
          },
          "metadata": {
            "tags": []
          },
          "execution_count": 10
        },
        {
          "output_type": "display_data",
          "data": {
            "image/png": "[encoded data removed]",
            "text/plain": [
              "<matplotlib.figure.Figure at 0x7f4b1c2397f0>"
            ]
          },
          "metadata": {
            "tags": []
          }
        }
      ]
    },
    {
      "metadata": {
        "id": "Sct6If7o-qhb",
        "colab_type": "text"
      },
      "cell_type": "markdown",
      "source": [
        "Det neste vi gjør er å se nærmere på hvilke nettleser, opperativsystem, og enhet hver bruker benytter seg av. "
      ]
    },
    {
      "metadata": {
        "id": "kIOTNds07b4Y",
        "colab_type": "code",
        "colab": {}
      },
      "cell_type": "code",
      "source": [
        "tmp_device_df = train_df[[\"device.browser\",\"device.operatingSystem\",\"device.deviceCategory\",\"device.isMobile\"]]"
      ],
      "execution_count": 0,
      "outputs": []
    },
    {
      "metadata": {
        "id": "ejt8aDC6_O1F",
        "colab_type": "text"
      },
      "cell_type": "markdown",
      "source": [
        "Vi tar en titt på de 5 første radene og ser om vi har fått den informasjonen vi ønsker."
      ]
    },
    {
      "metadata": {
        "id": "HekYunuA7oTK",
        "colab_type": "code",
        "outputId": "fbdc7260-763b-4c2d-96fd-d43bc980d28f",
        "colab": {
          "base_uri": "https://localhost:8080/",
          "height": 197
        }
      },
      "cell_type": "code",
      "source": [
        "tmp_device_df.head()"
      ],
      "execution_count": 0,
      "outputs": [
        {
          "output_type": "execute_result",
          "data": {
            "text/html": [
              "<div>\n",
              "<style scoped>\n",
              "    .dataframe tbody tr th:only-of-type {\n",
              "        vertical-align: middle;\n",
              "    }\n",
              "\n",
              "    .dataframe tbody tr th {\n",
              "        vertical-align: top;\n",
              "    }\n",
              "\n",
              "    .dataframe thead th {\n",
              "        text-align: right;\n",
              "    }\n",
              "</style>\n",
              "<table border=\"1\" class=\"dataframe\">\n",
              "  <thead>\n",
              "    <tr style=\"text-align: right;\">\n",
              "      <th></th>\n",
              "      <th>device.browser</th>\n",
              "      <th>device.operatingSystem</th>\n",
              "      <th>device.deviceCategory</th>\n",
              "      <th>device.isMobile</th>\n",
              "    </tr>\n",
              "  </thead>\n",
              "  <tbody>\n",
              "    <tr>\n",
              "      <th>0</th>\n",
              "      <td>Chrome</td>\n",
              "      <td>Windows</td>\n",
              "      <td>desktop</td>\n",
              "      <td>False</td>\n",
              "    </tr>\n",
              "    <tr>\n",
              "      <th>1</th>\n",
              "      <td>Firefox</td>\n",
              "      <td>Macintosh</td>\n",
              "      <td>desktop</td>\n",
              "      <td>False</td>\n",
              "    </tr>\n",
              "    <tr>\n",
              "      <th>2</th>\n",
              "      <td>Chrome</td>\n",
              "      <td>Windows</td>\n",
              "      <td>desktop</td>\n",
              "      <td>False</td>\n",
              "    </tr>\n",
              "    <tr>\n",
              "      <th>3</th>\n",
              "      <td>UC Browser</td>\n",
              "      <td>Linux</td>\n",
              "      <td>desktop</td>\n",
              "      <td>False</td>\n",
              "    </tr>\n",
              "    <tr>\n",
              "      <th>4</th>\n",
              "      <td>Chrome</td>\n",
              "      <td>Android</td>\n",
              "      <td>mobile</td>\n",
              "      <td>True</td>\n",
              "    </tr>\n",
              "  </tbody>\n",
              "</table>\n",
              "</div>"
            ],
            "text/plain": [
              "  device.browser device.operatingSystem device.deviceCategory  device.isMobile\n",
              "0         Chrome                Windows               desktop            False\n",
              "1        Firefox              Macintosh               desktop            False\n",
              "2         Chrome                Windows               desktop            False\n",
              "3     UC Browser                  Linux               desktop            False\n",
              "4         Chrome                Android                mobile             True"
            ]
          },
          "metadata": {
            "tags": []
          },
          "execution_count": 12
        }
      ]
    },
    {
      "metadata": {
        "id": "O-dSZUn__dzz",
        "colab_type": "text"
      },
      "cell_type": "markdown",
      "source": [
        "Det neste vi gjør er å se nærmere på hvor mye forskjellig data vi faktisk jobber med. "
      ]
    },
    {
      "metadata": {
        "id": "IYw7yeNE7qsV",
        "colab_type": "code",
        "outputId": "396eef5d-a3c7-4e61-f331-e6ab5ac32b5b",
        "colab": {
          "base_uri": "https://localhost:8080/",
          "height": 167
        }
      },
      "cell_type": "code",
      "source": [
        "tmp_device_df.describe()"
      ],
      "execution_count": 0,
      "outputs": [
        {
          "output_type": "execute_result",
          "data": {
            "text/html": [
              "<div>\n",
              "<style scoped>\n",
              "    .dataframe tbody tr th:only-of-type {\n",
              "        vertical-align: middle;\n",
              "    }\n",
              "\n",
              "    .dataframe tbody tr th {\n",
              "        vertical-align: top;\n",
              "    }\n",
              "\n",
              "    .dataframe thead th {\n",
              "        text-align: right;\n",
              "    }\n",
              "</style>\n",
              "<table border=\"1\" class=\"dataframe\">\n",
              "  <thead>\n",
              "    <tr style=\"text-align: right;\">\n",
              "      <th></th>\n",
              "      <th>device.browser</th>\n",
              "      <th>device.operatingSystem</th>\n",
              "      <th>device.deviceCategory</th>\n",
              "      <th>device.isMobile</th>\n",
              "    </tr>\n",
              "  </thead>\n",
              "  <tbody>\n",
              "    <tr>\n",
              "      <th>count</th>\n",
              "      <td>903653</td>\n",
              "      <td>903653</td>\n",
              "      <td>903653</td>\n",
              "      <td>903653</td>\n",
              "    </tr>\n",
              "    <tr>\n",
              "      <th>unique</th>\n",
              "      <td>54</td>\n",
              "      <td>20</td>\n",
              "      <td>3</td>\n",
              "      <td>2</td>\n",
              "    </tr>\n",
              "    <tr>\n",
              "      <th>top</th>\n",
              "      <td>Chrome</td>\n",
              "      <td>Windows</td>\n",
              "      <td>desktop</td>\n",
              "      <td>False</td>\n",
              "    </tr>\n",
              "    <tr>\n",
              "      <th>freq</th>\n",
              "      <td>620364</td>\n",
              "      <td>350072</td>\n",
              "      <td>664479</td>\n",
              "      <td>664530</td>\n",
              "    </tr>\n",
              "  </tbody>\n",
              "</table>\n",
              "</div>"
            ],
            "text/plain": [
              "       device.browser device.operatingSystem device.deviceCategory  \\\n",
              "count          903653                 903653                903653   \n",
              "unique             54                     20                     3   \n",
              "top            Chrome                Windows               desktop   \n",
              "freq           620364                 350072                664479   \n",
              "\n",
              "       device.isMobile  \n",
              "count           903653  \n",
              "unique               2  \n",
              "top              False  \n",
              "freq            664530  "
            ]
          },
          "metadata": {
            "tags": []
          },
          "execution_count": 13
        }
      ]
    },
    {
      "metadata": {
        "id": "OZazyOlv_tJ0",
        "colab_type": "text"
      },
      "cell_type": "markdown",
      "source": [
        "Det kan også være nyttig å visualisere denne informasjonen. Ved hjelp av dette ser vi fort at brukere som bruker chrome, windows og desktop er den største andelen av brukere på nettsiden. Man kan derfor kanskje se at det er mer sannsynlig at en andel av disse brukerene vil stå for større omsetning enn andre."
      ]
    },
    {
      "metadata": {
        "id": "rotzvGmP7TR0",
        "colab_type": "code",
        "outputId": "b623a1ef-3255-4dc4-d8a6-730158954244",
        "colab": {
          "base_uri": "https://localhost:8080/",
          "height": 942
        }
      },
      "cell_type": "code",
      "source": [
        "fig, axes = plt.subplots(2,2,figsize=(15,15))\n",
        "tmp_device_df[\"device.isMobile\"].value_counts().plot(kind=\"bar\",ax=axes[0][0],rot=25,legend=\"isMobile\",color='tan')\n",
        "tmp_device_df[\"device.browser\"].value_counts().head(10).plot(kind=\"bar\",ax=axes[0][1],rot=40,legend=\"browser\",color='teal')\n",
        "tmp_device_df[\"device.deviceCategory\"].value_counts().head(10).plot(kind=\"bar\",ax=axes[1][0],rot=25,legend=\"deviceCategory\",color='lime')\n",
        "tmp_device_df[\"device.operatingSystem\"].value_counts().head(10).plot(kind=\"bar\",ax=axes[1][1],rot=80,legend=\"operatingSystem\",color='c')"
      ],
      "execution_count": 0,
      "outputs": [
        {
          "output_type": "execute_result",
          "data": {
            "text/plain": [
              "<matplotlib.axes._subplots.AxesSubplot at 0x7f4b1c38d358>"
            ]
          },
          "metadata": {
            "tags": []
          },
          "execution_count": 14
        },
        {
          "output_type": "display_data",
          "data": {
            "image/png": "[encoded data removed]",
            "text/plain": [
              "<matplotlib.figure.Figure at 0x7f4b1c2c3630>"
            ]
          },
          "metadata": {
            "tags": []
          }
        }
      ]
    },
    {
      "metadata": {
        "id": "SvSAiDQaBb9g",
        "colab_type": "text"
      },
      "cell_type": "markdown",
      "source": [
        "Det neste vi vil gjøre er se på hvor i verden brukerne befinner seg. For å gjøre dette lager vi et nytt datasett med den relevante informasjonen:"
      ]
    },
    {
      "metadata": {
        "id": "rdnBwNvzumdJ",
        "colab_type": "code",
        "colab": {}
      },
      "cell_type": "code",
      "source": [
        "tmp_geo_df = train_df[[\"geoNetwork.continent\",\"geoNetwork.subContinent\",\"geoNetwork.country\",\"geoNetwork.city\"]].dropna()"
      ],
      "execution_count": 0,
      "outputs": []
    },
    {
      "metadata": {
        "id": "Ug4NiH5CGJ7I",
        "colab_type": "text"
      },
      "cell_type": "markdown",
      "source": [
        "For å få et overblikk over hvordan dette er distribuert bruker vi funksjonen under:"
      ]
    },
    {
      "metadata": {
        "id": "u8UIjXr-wLzE",
        "colab_type": "code",
        "outputId": "0f1e450b-c98b-4b9d-b8ea-1edc45bfcc9f",
        "colab": {
          "base_uri": "https://localhost:8080/",
          "height": 133
        }
      },
      "cell_type": "code",
      "source": [
        "tmp_geo_df[\"geoNetwork.continent\"].value_counts()"
      ],
      "execution_count": 0,
      "outputs": [
        {
          "output_type": "execute_result",
          "data": {
            "text/plain": [
              "Americas     450377\n",
              "Asia         223698\n",
              "Europe       198311\n",
              "Oceania       15054\n",
              "Africa        14745\n",
              "(not set)      1468\n",
              "Name: geoNetwork.continent, dtype: int64"
            ]
          },
          "metadata": {
            "tags": []
          },
          "execution_count": 16
        }
      ]
    },
    {
      "metadata": {
        "id": "cWmX2_INGRdY",
        "colab_type": "text"
      },
      "cell_type": "markdown",
      "source": [
        "Grafene under gir oss et innblikk i hvor de største andelene av brukere kommer fra,  og dermed også hvilke verdensdeler som bidrar til mest omsetning."
      ]
    },
    {
      "metadata": {
        "id": "p5tLC9SovpT-",
        "colab_type": "code",
        "outputId": "6b12f089-a6c8-41d6-fbec-7f00646a141b",
        "colab": {
          "base_uri": "https://localhost:8080/",
          "height": 896
        }
      },
      "cell_type": "code",
      "source": [
        "fig, axes = plt.subplots(3,2, figsize=(15,15))\n",
        "tmp_geo_df[\"geoNetwork.continent\"].value_counts().plot(kind=\"bar\",ax=axes[0][0],title=\"Kunder på verdensbasis\",rot=0,color=\"c\")\n",
        "tmp_geo_df[tmp_geo_df[\"geoNetwork.continent\"] == \"Americas\"][\"geoNetwork.subContinent\"].value_counts().plot(kind=\"bar\",ax=axes[1][0], title=\"Kunder i Amerika\",rot=0,color=\"tan\")\n",
        "tmp_geo_df[tmp_geo_df[\"geoNetwork.continent\"] == \"Asia\"][\"geoNetwork.subContinent\"].value_counts().plot(kind=\"bar\",ax=axes[0][1], title=\"Kunder i Asia\",rot=0,color=\"r\")\n",
        "tmp_geo_df[tmp_geo_df[\"geoNetwork.continent\"] == \"Europe\"][\"geoNetwork.subContinent\"].value_counts().plot(kind=\"bar\",ax=axes[1][1],  title=\"Kunder i Europa\",rot=0,color=\"lime\")\n",
        "tmp_geo_df[tmp_geo_df[\"geoNetwork.continent\"] == \"Oceania\"][\"geoNetwork.subContinent\"].value_counts().plot(kind=\"bar\",ax = axes[2][0], title=\"Kunder i Oseania\",rot=0,color=\"teal\")\n",
        "tmp_geo_df[tmp_geo_df[\"geoNetwork.continent\"] == \"Africa\"][\"geoNetwork.subContinent\"].value_counts().plot(kind=\"bar\" , ax=axes[2][1], title=\"Kunder i Afrika\",rot=0,color=\"silver\")"
      ],
      "execution_count": 0,
      "outputs": [
        {
          "output_type": "execute_result",
          "data": {
            "text/plain": [
              "<matplotlib.axes._subplots.AxesSubplot at 0x7f4b1c95fbe0>"
            ]
          },
          "metadata": {
            "tags": []
          },
          "execution_count": 19
        },
        {
          "output_type": "display_data",
          "data": {
            "image/png": "[encoded data removed]",
            "text/plain": [
              "<matplotlib.figure.Figure at 0x7f4b1c7f1c18>"
            ]
          },
          "metadata": {
            "tags": []
          }
        }
      ]
    },
    {
      "metadata": {
        "id": "9ionk_G_1YKC",
        "colab_type": "code",
        "outputId": "4b4b22c9-4a07-4b9a-b83d-50e9216dbfa0",
        "colab": {
          "base_uri": "https://localhost:8080/",
          "height": 653
        }
      },
      "cell_type": "code",
      "source": [
        "print(\"Prosent av kanal grupper brukt: \")\n",
        "print((train_df['channelGrouping'].value_counts()[:5]))\n",
        "\n",
        "plt.figure(figsize=(14,7))\n",
        "\n",
        "sns.countplot(train_df[\"channelGrouping\"], palette=\"hls\")\n",
        "plt.title(\"Gruppering av kanaler\", fontsize=20)\n",
        "plt.xlabel(\"Kanal navn\", fontsize=18)\n",
        "plt.ylabel(\"Antall\", fontsize=18)\n",
        "\n",
        "plt.show()"
      ],
      "execution_count": 0,
      "outputs": [
        {
          "output_type": "stream",
          "text": [
            "Prosent av kanal grupper brukt: \n",
            "Organic Search    381561\n",
            "Social            226117\n",
            "Direct            143026\n",
            "Referral          104838\n",
            "Paid Search        25326\n",
            "Name: channelGrouping, dtype: int64\n"
          ],
          "name": "stdout"
        },
        {
          "output_type": "stream",
          "text": [
            "/usr/local/lib/python3.6/dist-packages/seaborn/categorical.py:1428: FutureWarning:\n",
            "\n",
            "remove_na is deprecated and is a private function. Do not use.\n",
            "\n"
          ],
          "name": "stderr"
        },
        {
          "output_type": "display_data",
          "data": {
            "image/png": "[encoded data removed]",
            "text/plain": [
              "<matplotlib.figure.Figure at 0x7f4b1c2c39b0>"
            ]
          },
          "metadata": {
            "tags": []
          }
        }
      ]
    },
    {
      "metadata": {
        "id": "ogqjwJbUIyn9",
        "colab_type": "text"
      },
      "cell_type": "markdown",
      "source": [
        "Grafen over viser oss hvilke kanaler brukerne har benyttet for å komme til GStore."
      ]
    },
    {
      "metadata": {
        "id": "ANHBbfp2ImxU",
        "colab_type": "text"
      },
      "cell_type": "markdown",
      "source": [
        "Datasettet er svært stort, og vi vil derfor rydde opp i datasettet ved å finne kolonner som ikke er unike og derfor ikke vil ha noen effekt på modellene. Disse vil vi seinere fjerne."
      ]
    },
    {
      "metadata": {
        "id": "zsGNSFFmruOO",
        "colab_type": "code",
        "outputId": "7332be18-1216-479b-ca8c-fdde3ba88f7d",
        "colab": {
          "base_uri": "https://localhost:8080/",
          "height": 333
        }
      },
      "cell_type": "code",
      "source": [
        "const_cols = [c for c in train_df.columns if train_df[c].nunique(dropna=False)==1 ]\n",
        "const_cols"
      ],
      "execution_count": 0,
      "outputs": [
        {
          "output_type": "execute_result",
          "data": {
            "text/plain": [
              "['socialEngagementType',\n",
              " 'device.browserSize',\n",
              " 'device.browserVersion',\n",
              " 'device.flashVersion',\n",
              " 'device.language',\n",
              " 'device.mobileDeviceBranding',\n",
              " 'device.mobileDeviceInfo',\n",
              " 'device.mobileDeviceMarketingName',\n",
              " 'device.mobileDeviceModel',\n",
              " 'device.mobileInputSelector',\n",
              " 'device.operatingSystemVersion',\n",
              " 'device.screenColors',\n",
              " 'device.screenResolution',\n",
              " 'geoNetwork.cityId',\n",
              " 'geoNetwork.latitude',\n",
              " 'geoNetwork.longitude',\n",
              " 'geoNetwork.networkLocation',\n",
              " 'totals.visits',\n",
              " 'trafficSource.adwordsClickInfo.criteriaParameters']"
            ]
          },
          "metadata": {
            "tags": []
          },
          "execution_count": 20
        }
      ]
    },
    {
      "metadata": {
        "id": "stVSGduEI8Vi",
        "colab_type": "text"
      },
      "cell_type": "markdown",
      "source": [
        "Til slutt ser vi på om det er noe data som ikke i testsettet, og som ikke er transactionRevenue."
      ]
    },
    {
      "metadata": {
        "id": "Bvn335PFruWM",
        "colab_type": "code",
        "outputId": "79306cef-55ad-4516-c2d8-bcbc914274fc",
        "colab": {
          "base_uri": "https://localhost:8080/",
          "height": 33
        }
      },
      "cell_type": "code",
      "source": [
        "print(\"Variabler i treningsettet men ikke i testsett : \", set(train_df.columns).difference(set(test_df.columns)))"
      ],
      "execution_count": 0,
      "outputs": [
        {
          "output_type": "stream",
          "text": [
            "Variabler i treningsettet men ikke i testsett :  {'totals.transactionRevenue', 'trafficSource.campaignCode'}\n"
          ],
          "name": "stdout"
        }
      ]
    },
    {
      "metadata": {
        "id": "W4OODKetxmFC",
        "colab_type": "text"
      },
      "cell_type": "markdown",
      "source": [
        "## 4. Forbedre dataen slik at den går bedre med maskinlæringsalgoritmene"
      ]
    },
    {
      "metadata": {
        "id": "L_sVoUIvJQlT",
        "colab_type": "text"
      },
      "cell_type": "markdown",
      "source": [
        "Det første vi vil gjøre er å fjerne kolonnene vi fant som ikke er unike. SessionId har heller ingen effekt på dataen og kan derfor også fjernes."
      ]
    },
    {
      "metadata": {
        "id": "DS6oPYAPRhXm",
        "colab_type": "code",
        "colab": {}
      },
      "cell_type": "code",
      "source": [
        "cols_to_drop = const_cols + ['sessionId']\n",
        "\n",
        "train_df = train_df.drop(cols_to_drop + [\"trafficSource.campaignCode\"], axis=1)\n",
        "test_df = test_df.drop(cols_to_drop, axis=1)"
      ],
      "execution_count": 0,
      "outputs": []
    },
    {
      "metadata": {
        "id": "DqhOrczuJfyh",
        "colab_type": "text"
      },
      "cell_type": "markdown",
      "source": [
        "Etter dette ordner vi opp i datasettene våre slik at de ikke inneholder noen NaN-objekter, og konverterer alle integere til float. Deretter konverterer vi alle objektene ved hjelp av labelencoder for å forsikre oss at modellene våre klarer å lese datasettet. \n",
        "\n",
        "Vi har deretter valgt å splitte datasettet på dato for teste om dette vil gi et godt resultat."
      ]
    },
    {
      "metadata": {
        "id": "AiDf_A2t0eG9",
        "colab_type": "code",
        "outputId": "04ccb14e-9e21-4422-cb45-5cc7ea1d21e4",
        "colab": {
          "base_uri": "https://localhost:8080/",
          "height": 383
        }
      },
      "cell_type": "code",
      "source": [
        "#fyller tomme variabler med 0\n",
        "train_df[\"totals.transactionRevenue\"].fillna(0, inplace=True)\n",
        "train_y = train_df[\"totals.transactionRevenue\"].values\n",
        "train_id = train_df[\"fullVisitorId\"].values\n",
        "test_id = test_df[\"fullVisitorId\"].values\n",
        "\n",
        "\n",
        "#Setter labels på variablene, og konverterer ints til float\n",
        "cat_cols = [\"channelGrouping\", \"device.browser\", \n",
        "            \"device.deviceCategory\", \"device.operatingSystem\", \n",
        "            \"geoNetwork.city\", \"geoNetwork.continent\", \n",
        "            \"geoNetwork.country\", \"geoNetwork.metro\",\n",
        "            \"geoNetwork.networkDomain\", \"geoNetwork.region\", \n",
        "            \"geoNetwork.subContinent\", \"trafficSource.adContent\", \n",
        "            \"trafficSource.adwordsClickInfo.adNetworkType\", \n",
        "            \"trafficSource.adwordsClickInfo.gclId\", \n",
        "            \"trafficSource.adwordsClickInfo.page\", \n",
        "            \"trafficSource.adwordsClickInfo.slot\", \"trafficSource.campaign\",\n",
        "            \"trafficSource.keyword\", \"trafficSource.medium\", \n",
        "            \"trafficSource.referralPath\", \"trafficSource.source\",\n",
        "            'trafficSource.adwordsClickInfo.isVideoAd', 'trafficSource.isTrueDirect']\n",
        "for col in cat_cols:\n",
        "    print(col)\n",
        "    lbl = preprocessing.LabelEncoder()\n",
        "    lbl.fit(list(train_df[col].values.astype('str')) + list(test_df[col].values.astype('str')))\n",
        "    train_df[col] = lbl.transform(list(train_df[col].values.astype('str')))\n",
        "    test_df[col] = lbl.transform(list(test_df[col].values.astype('str')))\n",
        "\n",
        "\n",
        "for col in num_cols:\n",
        "    train_df[col] = train_df[col].astype(float)\n",
        "    test_df[col] = test_df[col].astype(float)\n",
        "\n",
        "#Splitter datasettet basert på dato med det første, skal forbedres senere \n",
        "dev_df = train_df[train_df['date']<=datetime.date(2017,5,31)]\n",
        "val_df = train_df[train_df['date']>datetime.date(2017,5,31)]\n",
        "dev_y = np.log1p(dev_df[\"totals.transactionRevenue\"].values)\n",
        "val_y = np.log1p(val_df[\"totals.transactionRevenue\"].values)\n",
        "\n",
        "dev_X = dev_df[cat_cols + num_cols] \n",
        "val_X = val_df[cat_cols + num_cols] \n",
        "test_X = test_df[cat_cols + num_cols] "
      ],
      "execution_count": 0,
      "outputs": [
        {
          "output_type": "stream",
          "text": [
            "channelGrouping\n",
            "device.browser\n",
            "device.deviceCategory\n",
            "device.operatingSystem\n",
            "geoNetwork.city\n",
            "geoNetwork.continent\n",
            "geoNetwork.country\n",
            "geoNetwork.metro\n",
            "geoNetwork.networkDomain\n",
            "geoNetwork.region\n",
            "geoNetwork.subContinent\n",
            "trafficSource.adContent\n",
            "trafficSource.adwordsClickInfo.gclId\n",
            "trafficSource.adwordsClickInfo.page\n",
            "trafficSource.adwordsClickInfo.slot\n",
            "trafficSource.campaign\n",
            "trafficSource.keyword\n",
            "trafficSource.medium\n",
            "trafficSource.referralPath\n",
            "trafficSource.source\n",
            "trafficSource.adwordsClickInfo.isVideoAd\n",
            "trafficSource.isTrueDirect\n"
          ],
          "name": "stdout"
        }
      ]
    },
    {
      "metadata": {
        "id": "QHBQPiaCm7LR",
        "colab_type": "code",
        "outputId": "9f868d04-2092-498e-ac23-1e93cd7d4bce",
        "colab": {
          "base_uri": "https://localhost:8080/",
          "height": 725
        }
      },
      "cell_type": "code",
      "source": [
        "train_df.isnull().sum().plot(kind=\"bar\", figsize = (20,8))\n",
        "plt.xlabel(\"Kolonne\")\n",
        "plt.ylabel(\"Antall\")\n",
        "plt.title(\"Manglende verdier i kolonner\")"
      ],
      "execution_count": 0,
      "outputs": [
        {
          "output_type": "execute_result",
          "data": {
            "text/plain": [
              "Text(0.5,1,'Manglende verdier i kolonner')"
            ]
          },
          "metadata": {
            "tags": []
          },
          "execution_count": 26
        },
        {
          "output_type": "display_data",
          "data": {
            "image/png": "[encoded data removed]",
            "text/plain": [
              "<matplotlib.figure.Figure at 0x7f4bc786f7b8>"
            ]
          },
          "metadata": {
            "tags": []
          }
        }
      ]
    },
    {
      "metadata": {
        "id": "RyOcuMLavgLf",
        "colab_type": "text"
      },
      "cell_type": "markdown",
      "source": [
        "Grafen over viser at vi fortsatt mangler en del data på to objekter i datasettet. Bounces vil si at man går rett inn ut og på en nettside, og newvisit vil si at det er en ny bruker på nettsiden.\n",
        "\n",
        "Her må vi vurdere om vi skal sette alle disse elementene til 0 slik at modellene kan kjøres, og om elementene eventuelt har en invirkning på hverandre."
      ]
    },
    {
      "metadata": {
        "id": "jbNndAELqk83",
        "colab_type": "code",
        "outputId": "c47d9d99-14fb-4f1c-804e-6263c2db998c",
        "colab": {
          "base_uri": "https://localhost:8080/",
          "height": 50
        }
      },
      "cell_type": "code",
      "source": [
        "train_df[\"totals.bounces\"].value_counts()"
      ],
      "execution_count": 0,
      "outputs": [
        {
          "output_type": "execute_result",
          "data": {
            "text/plain": [
              "1.0    450630\n",
              "Name: totals.bounces, dtype: int64"
            ]
          },
          "metadata": {
            "tags": []
          },
          "execution_count": 24
        }
      ]
    },
    {
      "metadata": {
        "id": "J0EGAiQHrDM8",
        "colab_type": "code",
        "outputId": "341d84c3-df2c-4bc9-aecf-7f9ac72d565e",
        "colab": {
          "base_uri": "https://localhost:8080/",
          "height": 50
        }
      },
      "cell_type": "code",
      "source": [
        "train_df[\"totals.newVisits\"].value_counts()"
      ],
      "execution_count": 0,
      "outputs": [
        {
          "output_type": "execute_result",
          "data": {
            "text/plain": [
              "1.0    703060\n",
              "Name: totals.newVisits, dtype: int64"
            ]
          },
          "metadata": {
            "tags": []
          },
          "execution_count": 25
        }
      ]
    },
    {
      "metadata": {
        "id": "mNKNdPU5xz-V",
        "colab_type": "text"
      },
      "cell_type": "markdown",
      "source": [
        "## 5. Gå igjennom ulike modeller og finne den som passer best til vår datasett"
      ]
    },
    {
      "metadata": {
        "id": "VoH_oi8UQlqJ",
        "colab_type": "text"
      },
      "cell_type": "markdown",
      "source": [
        "### Light Gradient Boosting Machine"
      ]
    },
    {
      "metadata": {
        "id": "Jp_5SyPmKLXs",
        "colab_type": "text"
      },
      "cell_type": "markdown",
      "source": [
        "På grunn av at datasettet vårt er stort og komplisert bestemmer vi oss for å først prøve å kjøre det gjennom LightGBM. Under definerer vi derfor en metode som kan ta imot datasett og estimere et beløp.\n"
      ]
    },
    {
      "metadata": {
        "id": "6zxFvc9V0eO-",
        "colab_type": "code",
        "colab": {}
      },
      "cell_type": "code",
      "source": [
        "#Egendefinert modell for å kjøre lgbm\n",
        "def run_lgb(train_X, train_y, val_X, val_y, test_X):\n",
        "    params = {\n",
        "        \"objective\" : \"regression\",\n",
        "        \"metric\" : \"rmse\",\n",
        "        \"num_leaves\" : 40,\n",
        "        \"learning_rate\" : 0.005,\n",
        "        \"bagging_fraction\" : 0.6,\n",
        "        \"feature_fraction\" : 0.6,\n",
        "        \"bagging_frequency\" : 6,\n",
        "        \"bagging_seed\" : 42,\n",
        "        \"verbosity\" : -1,\n",
        "        \"seed\": 42\n",
        "    }\n",
        "    \n",
        "    lgtrain = lgb.Dataset(train_X, label=train_y)\n",
        "    lgval = lgb.Dataset(val_X, label=val_y)\n",
        "    model = lgb.train(params, lgtrain, 1000, valid_sets=[lgval], early_stopping_rounds=100, verbose_eval=100)\n",
        "    \n",
        "    pred_test_y = model.predict(test_X, num_iteration=model.best_iteration)\n",
        "    pred_val_y = model.predict(val_X, num_iteration=model.best_iteration)\n",
        "    return pred_test_y, model, pred_val_y"
      ],
      "execution_count": 0,
      "outputs": []
    },
    {
      "metadata": {
        "id": "B3GElk0bKlso",
        "colab_type": "text"
      },
      "cell_type": "markdown",
      "source": [
        "Ved kjøring av datasettet ser vi at vi til slutt får en verdi på 1.69923. Ikke den beste scoren man kan få, men ikke et dårlig resultat heller."
      ]
    },
    {
      "metadata": {
        "id": "7hj03Ozb0Nxt",
        "colab_type": "code",
        "outputId": "8e5c31c2-6af6-40ef-e7e2-5dcc3552558c",
        "colab": {
          "base_uri": "https://localhost:8080/",
          "height": 233
        }
      },
      "cell_type": "code",
      "source": [
        "pred_test, model, pred_val = run_lgb(dev_X, dev_y, val_X, val_y, test_X)"
      ],
      "execution_count": 0,
      "outputs": [
        {
          "output_type": "stream",
          "text": [
            "Training until validation scores don't improve for 100 rounds.\n",
            "[100]\tvalid_0's rmse: 1.94124\n",
            "[200]\tvalid_0's rmse: 1.83509\n",
            "[300]\tvalid_0's rmse: 1.77747\n",
            "[400]\tvalid_0's rmse: 1.74579\n",
            "[500]\tvalid_0's rmse: 1.72725\n",
            "[600]\tvalid_0's rmse: 1.71591\n",
            "[700]\tvalid_0's rmse: 1.70862\n",
            "[800]\tvalid_0's rmse: 1.70414\n",
            "[900]\tvalid_0's rmse: 1.70113\n",
            "[1000]\tvalid_0's rmse: 1.69923\n",
            "Did not meet early stopping. Best iteration is:\n",
            "[1000]\tvalid_0's rmse: 1.69923\n"
          ],
          "name": "stdout"
        }
      ]
    },
    {
      "metadata": {
        "id": "nLf-LtxCLUfv",
        "colab_type": "text"
      },
      "cell_type": "markdown",
      "source": [
        "Denne metoden regner ut en score med predicted og revenue, og bruker rmse."
      ]
    },
    {
      "metadata": {
        "id": "62FSOaPFfGiZ",
        "colab_type": "code",
        "outputId": "23e79742-2436-4ba1-9a24-345d6509f669",
        "colab": {
          "base_uri": "https://localhost:8080/",
          "height": 33
        }
      },
      "cell_type": "code",
      "source": [
        "pred_val[pred_val<0] = 0\n",
        "val_pred_df = pd.DataFrame({\"fullVisitorId\":val_df[\"fullVisitorId\"].values})\n",
        "val_pred_df[\"transactionRevenue\"] = val_df[\"totals.transactionRevenue\"].values\n",
        "val_pred_df[\"PredictedRevenue\"] = np.expm1(pred_val)\n",
        "val_pred_df = val_pred_df.groupby(\"fullVisitorId\")[\"transactionRevenue\", \"PredictedRevenue\"].sum().reset_index()\n",
        "print(np.sqrt(metrics.mean_squared_error(np.log1p(val_pred_df[\"transactionRevenue\"].values), np.log1p(val_pred_df[\"PredictedRevenue\"].values))))\n"
      ],
      "execution_count": 0,
      "outputs": [
        {
          "output_type": "stream",
          "text": [
            "1.726436669922586\n"
          ],
          "name": "stdout"
        }
      ]
    },
    {
      "metadata": {
        "id": "A7RYfMpVNFwD",
        "colab_type": "text"
      },
      "cell_type": "markdown",
      "source": [
        "LightGBM har en innebygd metode for å vise hvor mye påvirkning hver datakolonne har på transactionRevenue. Med denne informasjonen ser vi at det ikke bare er noen få objekter som påvirker resultatet men litt fra overalt. "
      ]
    },
    {
      "metadata": {
        "id": "4VpFh14WfGlg",
        "colab_type": "code",
        "outputId": "a6ed8e4c-d4f4-4216-eb03-feb5da8b4959",
        "colab": {
          "base_uri": "https://localhost:8080/",
          "height": 1056
        }
      },
      "cell_type": "code",
      "source": [
        "fig, ax = plt.subplots(figsize=(12,18))\n",
        "lgb.plot_importance(model, max_num_features=50, height=0.8, ax=ax)\n",
        "ax.grid(False)\n",
        "plt.title(\"LightGBM - Feature Importance\", fontsize=15)\n",
        "plt.show()"
      ],
      "execution_count": 0,
      "outputs": [
        {
          "output_type": "display_data",
          "data": {
            "image/png": "[encoded data removed]",
            "text/plain": [
              "<matplotlib.figure.Figure at 0x7f44e95dc940>"
            ]
          },
          "metadata": {
            "tags": []
          }
        }
      ]
    },
    {
      "metadata": {
        "id": "gcnQSAOPQqOS",
        "colab_type": "text"
      },
      "cell_type": "markdown",
      "source": [
        "### XGBoost"
      ]
    },
    {
      "metadata": {
        "id": "h9Yq6numGFSR",
        "colab_type": "text"
      },
      "cell_type": "markdown",
      "source": [
        "Så kjører vi dataen gjennom XGBoost for å se om den vil gi oss bedre resultat."
      ]
    },
    {
      "metadata": {
        "id": "ICxYxuh-7Jbe",
        "colab_type": "code",
        "colab": {}
      },
      "cell_type": "code",
      "source": [
        "from sklearn.metrics import mean_squared_error\n",
        "\n",
        "def rmse(y_true, y_pred):\n",
        "    return round(np.sqrt(mean_squared_error(y_true, y_pred)), 5)\n",
        "  \n",
        "def run_xgb(X_train, y_train, X_val, y_val, X_test):\n",
        "    params = {'objective': 'reg:linear',\n",
        "              'eval_metric': 'rmse',\n",
        "              'eta': 0.001,\n",
        "              'max_depth': 10,\n",
        "              'subsample': 0.6,\n",
        "              'colsample_bytree': 0.6,\n",
        "              'alpha':0.001,\n",
        "              'random_state': 42,\n",
        "              'silent': True}\n",
        "\n",
        "    xgb_train_data = xgb.DMatrix(X_train, y_train)\n",
        "    xgb_val_data = xgb.DMatrix(X_val, y_val)\n",
        "    xgb_submit_data = xgb.DMatrix(X_test)\n",
        "\n",
        "    model = xgb.train(params, xgb_train_data, \n",
        "                      num_boost_round=2000, \n",
        "                      evals= [(xgb_train_data, 'train'), (xgb_val_data, 'valid')],\n",
        "                      early_stopping_rounds=100, \n",
        "                      verbose_eval=500\n",
        "                     )\n",
        "\n",
        "    y_pred_train = model.predict(xgb_train_data, ntree_limit=model.best_ntree_limit)\n",
        "    y_pred_val = model.predict(xgb_val_data, ntree_limit=model.best_ntree_limit)\n",
        "    y_pred_submit = model.predict(xgb_submit_data, ntree_limit=model.best_ntree_limit)\n",
        "\n",
        "    print(f\"XGB : RMSE val: {rmse(y_val, y_pred_val)}  - RMSE train: {rmse(y_train, y_pred_train)}\")\n",
        "    return y_pred_submit, model"
      ],
      "execution_count": 0,
      "outputs": []
    },
    {
      "metadata": {
        "id": "UtNcoaGaj8jx",
        "colab_type": "code",
        "outputId": "12a528e7-a2ff-416c-d7bb-f7d172fc2800",
        "colab": {
          "base_uri": "https://localhost:8080/",
          "height": 183
        }
      },
      "cell_type": "code",
      "source": [
        "%%time\n",
        "xgb_preds, xgb_model = run_xgb(dev_X, dev_y, val_X, val_y, test_X)"
      ],
      "execution_count": 0,
      "outputs": [
        {
          "output_type": "stream",
          "text": [
            "[0]\ttrain-rmse:1.99819\tvalid-rmse:2.14674\n",
            "Multiple eval metrics have been passed: 'valid-rmse' will be used for early stopping.\n",
            "\n",
            "Will train until valid-rmse hasn't improved in 100 rounds.\n",
            "[500]\ttrain-rmse:1.78272\tvalid-rmse:1.93944\n",
            "[1000]\ttrain-rmse:1.66117\tvalid-rmse:1.82956\n",
            "[1500]\ttrain-rmse:1.58843\tvalid-rmse:1.77189\n",
            "XGB : RMSE val: 1.74201  - RMSE train: 1.53989\n",
            "CPU times: user 1h 30min 24s, sys: 2.85 s, total: 1h 30min 27s\n",
            "Wall time: 46min 27s\n"
          ],
          "name": "stdout"
        }
      ]
    },
    {
      "metadata": {
        "id": "CLd54PxzSlMA",
        "colab_type": "text"
      },
      "cell_type": "markdown",
      "source": [
        "Etter år og dager kom vi fram til denne modellen ikke ga noe bedre svar. Etter dette må vi vurdere om det vi har kommet frem til er et godt nok resultat. Og vi kan nå stille oss selv spørsmål som; Hvilken vil bli best ved fintuning? Kan vi splitte dataen på en bedre måte? Var tidssplitting en god metode å starte med?"
      ]
    },
    {
      "metadata": {
        "id": "belT__pDS9ct",
        "colab_type": "text"
      },
      "cell_type": "markdown",
      "source": [
        "Denne regner også ut validationscore, men er gjort om slik at den kan bruke XGBoost sin modell:"
      ]
    },
    {
      "metadata": {
        "id": "slk-FjaHfHAn",
        "colab_type": "code",
        "colab": {}
      },
      "cell_type": "code",
      "source": [
        "sub_df = pd.DataFrame({\"fullVisitorId\":test_id})\n",
        "pred_test[pred_test<0] = 0\n",
        "sub_df[\"PredictedLogRevenue\"] = np.expm1(pred_test)\n",
        "sub_df = sub_df.groupby(\"fullVisitorId\")[\"PredictedLogRevenue\"].sum().reset_index()\n",
        "sub_df.columns = [\"fullVisitorId\", \"PredictedLogRevenue\"]\n",
        "sub_df[\"PredictedLogRevenue\"] = np.log1p(sub_df[\"PredictedLogRevenue\"])\n",
        "sub_df.to_csv(\"baseline_lgb.csv\", index=False)"
      ],
      "execution_count": 0,
      "outputs": []
    },
    {
      "metadata": {
        "id": "b2lMwg35TsvS",
        "colab_type": "text"
      },
      "cell_type": "markdown",
      "source": [
        "Vi kan også se på de 5 øverste estimeringene for å se om vi faktisk får tak i tall som ikke er bare tull. "
      ]
    },
    {
      "metadata": {
        "id": "yS-K5SjeQ3rR",
        "colab_type": "code",
        "outputId": "6eab1423-fa01-404e-a8d6-80919695b613",
        "colab": {
          "base_uri": "https://localhost:8080/",
          "height": 197
        }
      },
      "cell_type": "code",
      "source": [
        "sub_df.head()"
      ],
      "execution_count": 0,
      "outputs": [
        {
          "output_type": "execute_result",
          "data": {
            "text/html": [
              "<div>\n",
              "<style scoped>\n",
              "    .dataframe tbody tr th:only-of-type {\n",
              "        vertical-align: middle;\n",
              "    }\n",
              "\n",
              "    .dataframe tbody tr th {\n",
              "        vertical-align: top;\n",
              "    }\n",
              "\n",
              "    .dataframe thead th {\n",
              "        text-align: right;\n",
              "    }\n",
              "</style>\n",
              "<table border=\"1\" class=\"dataframe\">\n",
              "  <thead>\n",
              "    <tr style=\"text-align: right;\">\n",
              "      <th></th>\n",
              "      <th>fullVisitorId</th>\n",
              "      <th>PredictedLogRevenue</th>\n",
              "    </tr>\n",
              "  </thead>\n",
              "  <tbody>\n",
              "    <tr>\n",
              "      <th>0</th>\n",
              "      <td>0000000259678714014</td>\n",
              "      <td>0.820145</td>\n",
              "    </tr>\n",
              "    <tr>\n",
              "      <th>1</th>\n",
              "      <td>0000049363351866189</td>\n",
              "      <td>0.000000</td>\n",
              "    </tr>\n",
              "    <tr>\n",
              "      <th>2</th>\n",
              "      <td>0000053049821714864</td>\n",
              "      <td>0.000000</td>\n",
              "    </tr>\n",
              "    <tr>\n",
              "      <th>3</th>\n",
              "      <td>0000059488412965267</td>\n",
              "      <td>0.000000</td>\n",
              "    </tr>\n",
              "    <tr>\n",
              "      <th>4</th>\n",
              "      <td>0000085840370633780</td>\n",
              "      <td>0.048412</td>\n",
              "    </tr>\n",
              "  </tbody>\n",
              "</table>\n",
              "</div>"
            ],
            "text/plain": [
              "         fullVisitorId  PredictedLogRevenue\n",
              "0  0000000259678714014             0.820145\n",
              "1  0000049363351866189             0.000000\n",
              "2  0000053049821714864             0.000000\n",
              "3  0000059488412965267             0.000000\n",
              "4  0000085840370633780             0.048412"
            ]
          },
          "metadata": {
            "tags": []
          },
          "execution_count": 34
        }
      ]
    },
    {
      "metadata": {
        "id": "gL_X2XfpQyPe",
        "colab_type": "text"
      },
      "cell_type": "markdown",
      "source": [
        "### RandomForestRegressor"
      ]
    },
    {
      "metadata": {
        "id": "cvA8ukQH8ld9",
        "colab_type": "text"
      },
      "cell_type": "markdown",
      "source": [
        "Konverterer NaN-verdier til 0 slik at RandomizedSearchCV kan kjøres:"
      ]
    },
    {
      "metadata": {
        "id": "Ns2pJy9555e7",
        "colab_type": "code",
        "colab": {}
      },
      "cell_type": "code",
      "source": [
        "from numpy import *\n",
        "val_X = np.where(np.isnan(val_X), 0, val_X)\n",
        "val_y = np.where(np.isnan(val_y), 0, val_y)\n",
        "\n"
      ],
      "execution_count": 0,
      "outputs": []
    },
    {
      "metadata": {
        "id": "vTR5qFSlJKhn",
        "colab_type": "text"
      },
      "cell_type": "markdown",
      "source": [
        "RandomizedSearchCV tar tilfeldige parametere og tester med RandomForestRegressor bare for å se om det kan brukes."
      ]
    },
    {
      "metadata": {
        "id": "EIy2AlBd2c3c",
        "colab_type": "code",
        "colab": {}
      },
      "cell_type": "code",
      "source": [
        "from sklearn.model_selection import RandomizedSearchCV\n",
        "from scipy.stats import randint\n",
        "from sklearn.ensemble import RandomForestRegressor\n",
        "\n",
        "\n",
        "param_distribs = {\n",
        "        'n_estimators': randint(low=1, high=200),\n",
        "        'max_features': randint(low=1, high=8),\n",
        "    }\n",
        "\n",
        "forest_reg = RandomForestRegressor(random_state=42)\n",
        "rnd_search = RandomizedSearchCV(forest_reg, param_distributions=param_distribs,\n",
        "                                n_iter=10, cv=5, scoring='neg_mean_squared_error', random_state=42)\n",
        "rnd_search.fit(val_X, val_y)"
      ],
      "execution_count": 0,
      "outputs": []
    },
    {
      "metadata": {
        "id": "M_3bKKG3JSL2",
        "colab_type": "text"
      },
      "cell_type": "markdown",
      "source": [
        "Som vi kan ser får vi heller ikke noe gode resultater fra RandomForestRegressor."
      ]
    },
    {
      "metadata": {
        "id": "UUNHrMXD8iOH",
        "colab_type": "code",
        "outputId": "31a77213-8be2-4f4b-8e2c-53343bf7c0e1",
        "colab": {
          "base_uri": "https://localhost:8080/",
          "height": 183
        }
      },
      "cell_type": "code",
      "source": [
        "cvres = rnd_search.cv_results_\n",
        "for mean_score, params in zip(cvres[\"mean_test_score\"], cvres[\"params\"]):\n",
        "    print(np.sqrt(-mean_score), params)"
      ],
      "execution_count": 0,
      "outputs": [
        {
          "output_type": "stream",
          "text": [
            "1.7569401293770888 {'max_features': 7, 'n_estimators': 180}\n",
            "1.8163657418618369 {'max_features': 5, 'n_estimators': 15}\n",
            "1.7739173768038738 {'max_features': 3, 'n_estimators': 72}\n",
            "1.8014138529374788 {'max_features': 5, 'n_estimators': 21}\n",
            "1.7586012595751777 {'max_features': 7, 'n_estimators': 122}\n",
            "1.7740561424116448 {'max_features': 3, 'n_estimators': 75}\n",
            "1.7727203808691472 {'max_features': 3, 'n_estimators': 88}\n",
            "1.7671661240990248 {'max_features': 5, 'n_estimators': 100}\n",
            "1.76910832167973 {'max_features': 3, 'n_estimators': 150}\n",
            "2.1564655473984162 {'max_features': 5, 'n_estimators': 2}\n"
          ],
          "name": "stdout"
        }
      ]
    },
    {
      "metadata": {
        "id": "Dg4vkGN1x6kK",
        "colab_type": "text"
      },
      "cell_type": "markdown",
      "source": [
        "## 6.Fin-tune modellene og kombinere dem til en god løsning!"
      ]
    },
    {
      "metadata": {
        "id": "yhbXFG4jQ3Mq",
        "colab_type": "text"
      },
      "cell_type": "markdown",
      "source": [
        "### Fintuning av LightGBM ved hjelp av GridSearch"
      ]
    },
    {
      "metadata": {
        "id": "tlx-nM7RBzHm",
        "colab_type": "text"
      },
      "cell_type": "markdown",
      "source": [
        "For å finne bedre hyperparametere bruker vi først LightGBM sin dokumentasjon. Vi ønsker at modellen skal få mest mulig accurate resultat uten å bruke for mye ressurser."
      ]
    },
    {
      "metadata": {
        "id": "zNePfJQ2CrLK",
        "colab_type": "code",
        "outputId": "f0852dda-0f6a-4847-9121-cb0364b10d85",
        "colab": {
          "base_uri": "https://localhost:8080/",
          "height": 200
        }
      },
      "cell_type": "code",
      "source": [
        "from sklearn.model_selection import GridSearchCV\n",
        "param_grid = [\n",
        "    # try 12 (3×4) combinations of hyperparameters\n",
        "    {'n_estimators': [3, 10, 30], 'max_features': [2, 4, 6, 8]},\n",
        "    # then try 6 (2×3) combinations with bootstrap set as False\n",
        "    {'bootstrap': [False], 'n_estimators': [3, 10], 'max_features': [2, 3, 4]},\n",
        "  ]\n",
        "lightgbm_reg = lgb.LGBMRegressor(random_state=42)\n",
        "# train across 5 folds, that's a total of (12+6)*250=4500 rounds of training \n",
        "grid_search = GridSearchCV(lightgbm_reg, param_grid, cv=250,\n",
        "                           scoring='neg_mean_squared_error', return_train_score=True)\n",
        "grid_search.fit(val_X, val_y)"
      ],
      "execution_count": 0,
      "outputs": [
        {
          "output_type": "execute_result",
          "data": {
            "text/plain": [
              "GridSearchCV(cv=250, error_score='raise',\n",
              "       estimator=LGBMRegressor(boosting_type='gbdt', class_weight=None, colsample_bytree=1.0,\n",
              "       importance_type='split', learning_rate=0.1, max_depth=-1,\n",
              "       min_child_samples=20, min_child_weight=0.001, min_split_gain=0.0,\n",
              "       n_estimators=100, n_jobs=-1, num_leaves=31, objective=None,\n",
              "       random_state=42, reg_alpha=0.0, reg_lambda=0.0, silent=True,\n",
              "       subsample=1.0, subsample_for_bin=200000, subsample_freq=0),\n",
              "       fit_params=None, iid=True, n_jobs=1,\n",
              "       param_grid=[{'n_estimators': [3, 10, 30], 'max_features': [2, 4, 6, 8]}, {'bootstrap': [False], 'n_estimators': [3, 10], 'max_features': [2, 3, 4]}],\n",
              "       pre_dispatch='2*n_jobs', refit=True, return_train_score=True,\n",
              "       scoring='neg_mean_squared_error', verbose=0)"
            ]
          },
          "metadata": {
            "tags": []
          },
          "execution_count": 35
        }
      ]
    },
    {
      "metadata": {
        "id": "pdWJuBmkCrO4",
        "colab_type": "code",
        "outputId": "70b08e46-6bbb-42c0-a957-7a3aa93339ce",
        "colab": {
          "base_uri": "https://localhost:8080/",
          "height": 33
        }
      },
      "cell_type": "code",
      "source": [
        "grid_search.best_params_\n"
      ],
      "execution_count": 0,
      "outputs": [
        {
          "output_type": "execute_result",
          "data": {
            "text/plain": [
              "{'max_features': 2, 'n_estimators': 30}"
            ]
          },
          "metadata": {
            "tags": []
          },
          "execution_count": 36
        }
      ]
    },
    {
      "metadata": {
        "id": "aFJCApL6CrJi",
        "colab_type": "code",
        "outputId": "a3ce7031-aae4-46fe-a3a8-bb15b6f3316d",
        "colab": {
          "base_uri": "https://localhost:8080/",
          "height": 133
        }
      },
      "cell_type": "code",
      "source": [
        "grid_search.best_estimator_"
      ],
      "execution_count": 0,
      "outputs": [
        {
          "output_type": "execute_result",
          "data": {
            "text/plain": [
              "LGBMRegressor(boosting_type='gbdt', class_weight=None, colsample_bytree=1.0,\n",
              "       importance_type='split', learning_rate=0.1, max_depth=-1,\n",
              "       max_features=2, min_child_samples=20, min_child_weight=0.001,\n",
              "       min_split_gain=0.0, n_estimators=30, n_jobs=-1, num_leaves=31,\n",
              "       objective=None, random_state=42, reg_alpha=0.0, reg_lambda=0.0,\n",
              "       silent=True, subsample=1.0, subsample_for_bin=200000,\n",
              "       subsample_freq=0)"
            ]
          },
          "metadata": {
            "tags": []
          },
          "execution_count": 37
        }
      ]
    },
    {
      "metadata": {
        "id": "M-4p7bX4I-PR",
        "colab_type": "text"
      },
      "cell_type": "markdown",
      "source": [
        "Vi ser her at gridSearch ikke klarer å finne et godt svar med hyperparametere. Vi kan eventuelt gi den lengre tid til å gå igjennom flere muligheter."
      ]
    },
    {
      "metadata": {
        "id": "hvBOzhno1_g7",
        "colab_type": "code",
        "outputId": "261bf5c9-a896-4f1d-e677-259ae0c0bb99",
        "colab": {
          "base_uri": "https://localhost:8080/",
          "height": 316
        }
      },
      "cell_type": "code",
      "source": [
        "cvres = grid_search.cv_results_\n",
        "for mean_score, params in zip(cvres[\"mean_test_score\"], cvres[\"params\"]):\n",
        "    print(np.sqrt(-mean_score), params)"
      ],
      "execution_count": 0,
      "outputs": [
        {
          "output_type": "stream",
          "text": [
            "1.9577096230997635 {'max_features': 2, 'n_estimators': 3}\n",
            "1.7794332747288157 {'max_features': 2, 'n_estimators': 10}\n",
            "1.7099165897833217 {'max_features': 2, 'n_estimators': 30}\n",
            "1.9577096230997635 {'max_features': 4, 'n_estimators': 3}\n",
            "1.7794332747288157 {'max_features': 4, 'n_estimators': 10}\n",
            "1.7099165897833217 {'max_features': 4, 'n_estimators': 30}\n",
            "1.9577096230997635 {'max_features': 6, 'n_estimators': 3}\n",
            "1.7794332747288157 {'max_features': 6, 'n_estimators': 10}\n",
            "1.7099165897833217 {'max_features': 6, 'n_estimators': 30}\n",
            "1.9577096230997635 {'max_features': 8, 'n_estimators': 3}\n",
            "1.7794332747288157 {'max_features': 8, 'n_estimators': 10}\n",
            "1.7099165897833217 {'max_features': 8, 'n_estimators': 30}\n",
            "1.9577096230997635 {'bootstrap': False, 'max_features': 2, 'n_estimators': 3}\n",
            "1.7794332747288157 {'bootstrap': False, 'max_features': 2, 'n_estimators': 10}\n",
            "1.9577096230997635 {'bootstrap': False, 'max_features': 3, 'n_estimators': 3}\n",
            "1.7794332747288157 {'bootstrap': False, 'max_features': 3, 'n_estimators': 10}\n",
            "1.9577096230997635 {'bootstrap': False, 'max_features': 4, 'n_estimators': 3}\n",
            "1.7794332747288157 {'bootstrap': False, 'max_features': 4, 'n_estimators': 10}\n"
          ],
          "name": "stdout"
        }
      ]
    },
    {
      "metadata": {
        "id": "Um-W_hrJEACO",
        "colab_type": "text"
      },
      "cell_type": "markdown",
      "source": [
        "I funksjonen under har vi tatt parameterene fra GridSearch, fjernet de variablene som var satt til default og finetunet litt for å forbedre resultatet:"
      ]
    },
    {
      "metadata": {
        "id": "Gl_2LslzziZt",
        "colab_type": "code",
        "colab": {}
      },
      "cell_type": "code",
      "source": [
        "# egendefinert metode med parametere hentet fra gridsearch\n",
        "def run_lgb_2(train_X, train_y, val_X, val_y, test_X):\n",
        "    params = {\n",
        "        \"objective\" : \"regression\",\n",
        "        \"metric\" : \"rmse\", \n",
        "        'boosting_type': 'gbdt',\n",
        "        'class_weight': 'None',\n",
        "        'colsample_bytree': 1.0,\n",
        "        'importance_type': 'split',\n",
        "        'learning_rate': 0.05,\n",
        "        'max_depth' : 15,\n",
        "        'max_features': 2,\n",
        "        'min_child_samples': 20,\n",
        "        'min_child_weight': 0.001,\n",
        "        'n_jobs': -1,\n",
        "        'num_leaves': 43,\n",
        "        'random_state': 42,\n",
        "        'importance_type': 'split',\n",
        "        'subsample': 1.0,\n",
        "        'subsample_for_bin': 200000,\n",
        "        \n",
        "    }\n",
        "    \n",
        "    lgtrain = lgb.Dataset(train_X, label=train_y)\n",
        "    lgval = lgb.Dataset(val_X, label=val_y)\n",
        "    model = lgb.train(params, lgtrain, 10000, valid_sets=[lgval], early_stopping_rounds=100, verbose_eval=100)\n",
        "    \n",
        "    pred_test_y = model.predict(test_X, num_iteration=model.best_iteration)\n",
        "    pred_val_y = model.predict(val_X, num_iteration=model.best_iteration)\n",
        "    return pred_test_y, model, pred_val_y"
      ],
      "execution_count": 0,
      "outputs": []
    },
    {
      "metadata": {
        "id": "sbiEMCgCKFMz",
        "colab_type": "text"
      },
      "cell_type": "markdown",
      "source": [
        "Og hvorfor ikke splitte dataen opp med train_test_split mens vi er igang for å se om det vil ha en påvirkning i tillegg?"
      ]
    },
    {
      "metadata": {
        "id": "jIFlBFzj6SZG",
        "colab_type": "code",
        "colab": {}
      },
      "cell_type": "code",
      "source": [
        "from sklearn.model_selection import train_test_split\n",
        "\n",
        "train_set_2, test_set_2 = train_test_split(train_df, test_size=0.15, random_state=42)"
      ],
      "execution_count": 0,
      "outputs": []
    },
    {
      "metadata": {
        "id": "G88orxDz6U2N",
        "colab_type": "code",
        "colab": {}
      },
      "cell_type": "code",
      "source": [
        "dev_df_4 = train_set_2\n",
        "val_df_4 = test_set_2\n",
        "\n",
        "dev_y_4 = np.log1p(dev_df_4[\"totals.transactionRevenue\"].values)\n",
        "val_y_4 = np.log1p(val_df_4[\"totals.transactionRevenue\"].values)\n",
        "\n",
        "dev_X_4 = dev_df_4[cat_cols + num_cols] \n",
        "val_X_4 = val_df_4[cat_cols + num_cols] \n",
        "test_X_4 = test_df[cat_cols + num_cols]"
      ],
      "execution_count": 0,
      "outputs": []
    },
    {
      "metadata": {
        "id": "uRwcIjNB4oAM",
        "colab_type": "code",
        "outputId": "0c218bd0-5b96-48ac-e937-3e7ba18c2fca",
        "colab": {
          "base_uri": "https://localhost:8080/",
          "height": 133
        }
      },
      "cell_type": "code",
      "source": [
        "pred_test_4, model_4, pred_val_4 = run_lgb_2(dev_X_4, dev_y_4, val_X_4, val_y_4, test_X_4)"
      ],
      "execution_count": 0,
      "outputs": [
        {
          "output_type": "stream",
          "text": [
            "Training until validation scores don't improve for 100 rounds.\n",
            "[100]\tvalid_0's rmse: 1.61573\n",
            "[200]\tvalid_0's rmse: 1.60957\n",
            "[300]\tvalid_0's rmse: 1.60857\n",
            "[400]\tvalid_0's rmse: 1.60885\n",
            "Early stopping, best iteration is:\n",
            "[334]\tvalid_0's rmse: 1.60773\n"
          ],
          "name": "stdout"
        }
      ]
    },
    {
      "metadata": {
        "id": "WccfO4e4EhRx",
        "colab_type": "text"
      },
      "cell_type": "markdown",
      "source": [
        "Som vi kan se over gir dette oss den beste scoren så langt.\n",
        "\n",
        "Vi kjører funksjonen under igjen for å sjekke om det er noen endringer i hvilke features som har stor påvirkning, men som vi kan se er det minimale endringer:"
      ]
    },
    {
      "metadata": {
        "id": "XFV_CIqH9oNP",
        "colab_type": "code",
        "outputId": "b8cabc15-197b-4e11-d347-2d5f009dad91",
        "colab": {
          "base_uri": "https://localhost:8080/",
          "height": 1056
        }
      },
      "cell_type": "code",
      "source": [
        "fig, ax = plt.subplots(figsize=(12,18))\n",
        "lgb.plot_importance(model, max_num_features=50, height=0.8, ax=ax)\n",
        "ax.grid(False)\n",
        "plt.title(\"LightGBM - Feature Importance\", fontsize=15)\n",
        "plt.show()"
      ],
      "execution_count": 0,
      "outputs": [
        {
          "output_type": "display_data",
          "data": {
            "image/png": "[encoded data removed]",
            "text/plain": [
              "<matplotlib.figure.Figure at 0x7f44e8e07860>"
            ]
          },
          "metadata": {
            "tags": []
          }
        }
      ]
    },
    {
      "metadata": {
        "id": "7m04SpGN6lNZ",
        "colab_type": "code",
        "outputId": "5e705bf0-081d-469b-8bbc-f944a648870a",
        "colab": {
          "base_uri": "https://localhost:8080/",
          "height": 33
        }
      },
      "cell_type": "code",
      "source": [
        "from sklearn import metrics\n",
        "pred_val_4[pred_val_4<0] = 0\n",
        "val_pred_df = pd.DataFrame({\"fullVisitorId\":val_df_4[\"fullVisitorId\"].values})\n",
        "val_pred_df[\"transactionRevenue\"] = val_df_4[\"totals.transactionRevenue\"].values\n",
        "val_pred_df[\"PredictedRevenue\"] = np.expm1(pred_val_4)\n",
        "val_pred_df = val_pred_df.groupby(\"fullVisitorId\")[\"transactionRevenue\", \"PredictedRevenue\"].sum().reset_index()\n",
        "print(np.sqrt(metrics.mean_squared_error(np.log1p(val_pred_df[\"transactionRevenue\"].values), np.log1p(val_pred_df[\"PredictedRevenue\"].values))))"
      ],
      "execution_count": 0,
      "outputs": [
        {
          "output_type": "stream",
          "text": [
            "1.6122801276481271\n"
          ],
          "name": "stdout"
        }
      ]
    },
    {
      "metadata": {
        "id": "_KpIjegXRHNL",
        "colab_type": "text"
      },
      "cell_type": "markdown",
      "source": [
        "### Fintuning av LightGBM ved hjelp av RandomizedSearch"
      ]
    },
    {
      "metadata": {
        "id": "VMFcuRrKT3a2",
        "colab_type": "text"
      },
      "cell_type": "markdown",
      "source": [
        "Vi prøver å bruke randomizedSearchCV for å forbedre paramterene for LightGBM:"
      ]
    },
    {
      "metadata": {
        "id": "otdX1HI4R9m8",
        "colab_type": "code",
        "outputId": "d2177e3f-13f0-4289-e4b4-6e98ee9670ad",
        "colab": {
          "base_uri": "https://localhost:8080/",
          "height": 216
        }
      },
      "cell_type": "code",
      "source": [
        "from scipy.stats import randint\n",
        "from sklearn.model_selection import RandomizedSearchCV\n",
        "\n",
        "\n",
        "param_distribs = {\n",
        "        'n_estimators': randint(low=1, high=400),\n",
        "        'max_features': randint(low=1, high=12),\n",
        "    }\n",
        "\n",
        "lightgbm_reg = lgb.LGBMRegressor(random_state=42)\n",
        "rnd_search_1 = RandomizedSearchCV(lightgbm_reg, param_distributions=param_distribs,\n",
        "                                n_iter=10, cv=5, scoring='neg_mean_squared_error', random_state=42)\n",
        "rnd_search_1.fit(val_X, val_y)"
      ],
      "execution_count": 0,
      "outputs": [
        {
          "output_type": "execute_result",
          "data": {
            "text/plain": [
              "RandomizedSearchCV(cv=5, error_score='raise',\n",
              "          estimator=LGBMRegressor(boosting_type='gbdt', class_weight=None, colsample_bytree=1.0,\n",
              "       importance_type='split', learning_rate=0.1, max_depth=-1,\n",
              "       min_child_samples=20, min_child_weight=0.001, min_split_gain=0.0,\n",
              "       n_estimators=100, n_jobs=-1, num_leaves=31, objective=None,\n",
              "       random_state=42, reg_alpha=0.0, reg_lambda=0.0, silent=True,\n",
              "       subsample=1.0, subsample_for_bin=200000, subsample_freq=0),\n",
              "          fit_params=None, iid=True, n_iter=10, n_jobs=1,\n",
              "          param_distributions={'n_estimators': <scipy.stats._distn_infrastructure.rv_frozen object at 0x7f3c09267cc0>, 'max_features': <scipy.stats._distn_infrastructure.rv_frozen object at 0x7f3c092674a8>},\n",
              "          pre_dispatch='2*n_jobs', random_state=42, refit=True,\n",
              "          return_train_score='warn', scoring='neg_mean_squared_error',\n",
              "          verbose=0)"
            ]
          },
          "metadata": {
            "tags": []
          },
          "execution_count": 48
        }
      ]
    },
    {
      "metadata": {
        "id": "5vGsba5P8yXw",
        "colab_type": "text"
      },
      "cell_type": "markdown",
      "source": [
        "Her får vi ut de beste parameterene i søket:"
      ]
    },
    {
      "metadata": {
        "id": "wq8d3aARav1p",
        "colab_type": "code",
        "outputId": "c889c70a-d238-456b-8d5f-950b30e5481f",
        "colab": {
          "base_uri": "https://localhost:8080/",
          "height": 33
        }
      },
      "cell_type": "code",
      "source": [
        "rnd_search_1.best_params_\n"
      ],
      "execution_count": 0,
      "outputs": [
        {
          "output_type": "execute_result",
          "data": {
            "text/plain": [
              "{'max_features': 11, 'n_estimators': 72}"
            ]
          },
          "metadata": {
            "tags": []
          },
          "execution_count": 50
        }
      ]
    },
    {
      "metadata": {
        "id": "p_lTmCm0a2Gt",
        "colab_type": "code",
        "outputId": "28b1d238-76d1-4121-9fd0-bffa260b080c",
        "colab": {
          "base_uri": "https://localhost:8080/",
          "height": 133
        }
      },
      "cell_type": "code",
      "source": [
        "rnd_search_1.best_estimator_"
      ],
      "execution_count": 0,
      "outputs": [
        {
          "output_type": "execute_result",
          "data": {
            "text/plain": [
              "LGBMRegressor(boosting_type='gbdt', class_weight=None, colsample_bytree=1.0,\n",
              "       importance_type='split', learning_rate=0.1, max_depth=-1,\n",
              "       max_features=11, min_child_samples=20, min_child_weight=0.001,\n",
              "       min_split_gain=0.0, n_estimators=72, n_jobs=-1, num_leaves=31,\n",
              "       objective=None, random_state=42, reg_alpha=0.0, reg_lambda=0.0,\n",
              "       silent=True, subsample=1.0, subsample_for_bin=200000,\n",
              "       subsample_freq=0)"
            ]
          },
          "metadata": {
            "tags": []
          },
          "execution_count": 51
        }
      ]
    },
    {
      "metadata": {
        "id": "qrGusCt9T1Tk",
        "colab_type": "code",
        "outputId": "48a9b711-bd09-4fea-d058-0b7fd12a5223",
        "colab": {
          "base_uri": "https://localhost:8080/",
          "height": 183
        }
      },
      "cell_type": "code",
      "source": [
        "cvres = rnd_search_1.cv_results_\n",
        "for mean_score, params in zip(cvres[\"mean_test_score\"], cvres[\"params\"]):\n",
        "    print(np.sqrt(-mean_score), params)"
      ],
      "execution_count": 0,
      "outputs": [
        {
          "output_type": "stream",
          "text": [
            "1.7664651384349899 {'max_features': 7, 'n_estimators': 349}\n",
            "1.7240148435692353 {'max_features': 11, 'n_estimators': 72}\n",
            "1.729852979328703 {'max_features': 5, 'n_estimators': 103}\n",
            "1.746717551822547 {'max_features': 10, 'n_estimators': 215}\n",
            "1.7268602316559858 {'max_features': 11, 'n_estimators': 88}\n",
            "1.7293633218955486 {'max_features': 5, 'n_estimators': 100}\n",
            "1.738305904500432 {'max_features': 8, 'n_estimators': 152}\n",
            "1.7381701773871616 {'max_features': 3, 'n_estimators': 150}\n",
            "1.7525653970595882 {'max_features': 5, 'n_estimators': 258}\n",
            "1.758011861170185 {'max_features': 8, 'n_estimators': 294}\n"
          ],
          "name": "stdout"
        }
      ]
    },
    {
      "metadata": {
        "id": "215B4uK30XtX",
        "colab_type": "text"
      },
      "cell_type": "markdown",
      "source": [
        "Som vi ser over gir ikke dette oss en bedre score en det vi har fått tidligere."
      ]
    },
    {
      "metadata": {
        "id": "jELL60k9RTx_",
        "colab_type": "text"
      },
      "cell_type": "markdown",
      "source": [
        "### Fintuning av XGBoost ved hjelp av RandomizedSearch"
      ]
    },
    {
      "metadata": {
        "id": "mtJPtDOhKY8t",
        "colab_type": "text"
      },
      "cell_type": "markdown",
      "source": [
        "Vi prøver også RandomizedSearchCV med XGBoost for å se om vi får bedre parametere:"
      ]
    },
    {
      "metadata": {
        "id": "HD-SV3pUjgD0",
        "colab_type": "code",
        "colab": {}
      },
      "cell_type": "code",
      "source": [
        "from scipy.stats import randint\n",
        "from sklearn.model_selection import RandomizedSearchCV\n",
        "\n",
        "\n",
        "param_distribs = {'n_estimators': [1000, 1500, 2000, 2500],\n",
        "               'max_depth':  [4, 5, 8, -1],\n",
        "               'num_leaves': [15, 31, 63, 127],\n",
        "               'subsample': [0.6, 0.7, 0.8, 1.0],\n",
        "               'colsample_bytree': [0.6, 0.7, 0.8, 1.0]}\n",
        "\n",
        "xgboost_reg = xgb.XGBRegressor(random_state=42)\n",
        "rnd_search_2 = RandomizedSearchCV(xgboost_reg, param_distributions=param_distribs,\n",
        "                                n_iter=60, cv=5, scoring='neg_mean_squared_error', random_state=42)\n",
        "rnd_search_2.fit(val_X, val_y)"
      ],
      "execution_count": 0,
      "outputs": []
    },
    {
      "metadata": {
        "id": "poskkvxXjigV",
        "colab_type": "code",
        "outputId": "7f7e12a5-52db-4e0e-ceb7-f24d7aa2f1d8",
        "colab": {
          "base_uri": "https://localhost:8080/",
          "height": 190
        }
      },
      "cell_type": "code",
      "source": [
        "rnd_search_2.best_params_\n"
      ],
      "execution_count": 0,
      "outputs": [
        {
          "output_type": "execute_result",
          "data": {
            "text/plain": [
              "{'colsample_bylevel': 0.5,\n",
              " 'colsample_bytree': 0.6,\n",
              " 'gamma': 0.5,\n",
              " 'learning_rate': 0.1,\n",
              " 'max_depth': 10,\n",
              " 'min_child_weight': 3.0,\n",
              " 'n_estimators': 100,\n",
              " 'reg_lambda': 100.0,\n",
              " 'silent': False,\n",
              " 'subsample': 0.8}"
            ]
          },
          "metadata": {
            "tags": []
          },
          "execution_count": 55
        }
      ]
    },
    {
      "metadata": {
        "id": "70LkniZajlXn",
        "colab_type": "code",
        "outputId": "fa121d94-e9f6-4c8a-adf5-54f756e716a1",
        "colab": {
          "base_uri": "https://localhost:8080/",
          "height": 141
        }
      },
      "cell_type": "code",
      "source": [
        "rnd_search_2.best_estimator_"
      ],
      "execution_count": 0,
      "outputs": [
        {
          "output_type": "execute_result",
          "data": {
            "text/plain": [
              "XGBRegressor(base_score=0.5, booster='gbtree', colsample_bylevel=0.5,\n",
              "       colsample_bytree=0.6, gamma=0.5, learning_rate=0.1,\n",
              "       max_delta_step=0, max_depth=10, min_child_weight=3.0, missing=None,\n",
              "       n_estimators=100, n_jobs=1, nthread=None, objective='reg:linear',\n",
              "       random_state=42, reg_alpha=0, reg_lambda=100.0, scale_pos_weight=1,\n",
              "       seed=None, silent=False, subsample=0.8)"
            ]
          },
          "metadata": {
            "tags": []
          },
          "execution_count": 56
        }
      ]
    },
    {
      "metadata": {
        "id": "wZZJGAQqLnzs",
        "colab_type": "text"
      },
      "cell_type": "markdown",
      "source": [
        "Så plaserer vi resultatet fra RandomizedSearchCV inn i XGBoost for å se om dette gir oss et bedre resultat enn det vi tidligere har fått."
      ]
    },
    {
      "metadata": {
        "id": "gDR_FZ6ExO4P",
        "colab_type": "code",
        "colab": {}
      },
      "cell_type": "code",
      "source": [
        "from sklearn.model_selection import train_test_split\n",
        "\n",
        "train_set_3, test_set_3 = train_test_split(train_df, test_size=0.30, random_state=42)\n"
      ],
      "execution_count": 0,
      "outputs": []
    },
    {
      "metadata": {
        "id": "umJEMn-ox_CK",
        "colab_type": "code",
        "colab": {}
      },
      "cell_type": "code",
      "source": [
        "dev_df_4 = train_set_3\n",
        "val_df_4 = test_set_3\n",
        "\n",
        "dev_y_4 = np.log1p(dev_df_4[\"totals.transactionRevenue\"].values)\n",
        "val_y_4 = np.log1p(val_df_4[\"totals.transactionRevenue\"].values)\n",
        "\n",
        "dev_X_4 = dev_df_4[cat_cols + num_cols] \n",
        "val_X_4 = val_df_4[cat_cols + num_cols] \n",
        "test_X_4 = test_df[cat_cols + num_cols] "
      ],
      "execution_count": 0,
      "outputs": []
    },
    {
      "metadata": {
        "id": "995JfnVgx_4z",
        "colab_type": "code",
        "colab": {}
      },
      "cell_type": "code",
      "source": [
        "def rmse(y_true, y_pred):\n",
        "    return round(np.sqrt(mean_squared_error(y_true, y_pred)), 5)\n",
        "  \n",
        "def run_xgb_2(X_train, y_train, X_val, y_val, X_test):\n",
        "    params = {'colsample_bylevel': 0.5,\n",
        " 'colsample_bytree': 0.6,\n",
        " 'gamma': 0.5,\n",
        " 'learning_rate': 0.1,\n",
        " 'max_depth': 4,\n",
        " 'min_child_weight': 3.0,\n",
        " 'n_estimators': 100,\n",
        " 'reg_lambda': 100.0,\n",
        " 'silent': False,\n",
        " 'subsample': 0.8}\n",
        "\n",
        "    xgb_train_data = xgb.DMatrix(X_train, y_train)\n",
        "    xgb_val_data = xgb.DMatrix(X_val, y_val)\n",
        "    xgb_submit_data = xgb.DMatrix(X_test)\n",
        "\n",
        "    model = xgb.train(params, xgb_train_data, \n",
        "                      num_boost_round=2000, \n",
        "                      evals= [(xgb_train_data, 'train'), (xgb_val_data, 'valid')],\n",
        "                      early_stopping_rounds=100, \n",
        "                      verbose_eval=500\n",
        "                     )\n",
        "\n",
        "    y_pred_train = model.predict(xgb_train_data, ntree_limit=model.best_ntree_limit)\n",
        "    y_pred_val = model.predict(xgb_val_data, ntree_limit=model.best_ntree_limit)\n",
        "    y_pred_submit = model.predict(xgb_submit_data, ntree_limit=model.best_ntree_limit)\n",
        "\n",
        "    print(f\"XGB : RMSE val: {rmse(y_val, y_pred_val)}  - RMSE train: {rmse(y_train, y_pred_train)}\")\n",
        "    return y_pred_submit, model"
      ],
      "execution_count": 0,
      "outputs": []
    },
    {
      "metadata": {
        "id": "3HxRxkSuyZPs",
        "colab_type": "code",
        "outputId": "9ad5be67-8dcd-46ac-defd-b8cc6679e92c",
        "colab": {
          "base_uri": "https://localhost:8080/",
          "height": 216
        }
      },
      "cell_type": "code",
      "source": [
        "%%time\n",
        "xgb_preds, xgb_model = run_xgb_2(dev_X_4, dev_y_4, val_X_4, val_y_4, test_X_4)"
      ],
      "execution_count": 0,
      "outputs": [
        {
          "output_type": "stream",
          "text": [
            "[0]\ttrain-rmse:1.97563\tvalid-rmse:1.98153\n",
            "Multiple eval metrics have been passed: 'valid-rmse' will be used for early stopping.\n",
            "\n",
            "Will train until valid-rmse hasn't improved in 100 rounds.\n",
            "[500]\ttrain-rmse:1.59192\tvalid-rmse:1.6362\n",
            "[1000]\ttrain-rmse:1.56648\tvalid-rmse:1.6319\n",
            "Stopping. Best iteration:\n",
            "[1105]\ttrain-rmse:1.56187\tvalid-rmse:1.63172\n",
            "\n",
            "XGB : RMSE val: 1.63171  - RMSE train: 1.56187\n",
            "CPU times: user 14min 15s, sys: 1.13 s, total: 14min 16s\n",
            "Wall time: 7min 34s\n"
          ],
          "name": "stdout"
        }
      ]
    },
    {
      "metadata": {
        "id": "0FUEgP9bKk_c",
        "colab_type": "text"
      },
      "cell_type": "markdown",
      "source": [
        "Alt i alt kan vi se forbedringsresultat med XGBoost, men ikke bedre enn lightGBM. \n",
        "\n",
        "Vi kan også se at XGBoost prioriterer andre objekter enn det LightGBM gjør:"
      ]
    },
    {
      "metadata": {
        "id": "2q3f3_OYZO6F",
        "colab_type": "code",
        "outputId": "c17952aa-f1b5-4dbe-999a-7f0a092f9c54",
        "colab": {
          "base_uri": "https://localhost:8080/",
          "height": 294
        }
      },
      "cell_type": "code",
      "source": [
        "from xgboost import plot_importance\n",
        "from matplotlib import pyplot\n",
        "plot_importance(xgb_model, max_num_features = 15)\n",
        "pyplot.show()"
      ],
      "execution_count": 0,
      "outputs": [
        {
          "output_type": "display_data",
          "data": {
            "image/png": "[encoded data removed]",
            "text/plain": [
              "<matplotlib.figure.Figure at 0x7f87fb576908>"
            ]
          },
          "metadata": {
            "tags": []
          }
        }
      ]
    },
    {
      "metadata": {
        "id": "VGRVoXGXN391",
        "colab_type": "text"
      },
      "cell_type": "markdown",
      "source": [
        "Under vil vi prøve å shuffle treningsettet opp i to deler basert på shuffle_indices for å se om dette vil påvirke resultatet vi får."
      ]
    },
    {
      "metadata": {
        "id": "o8fuVoK9Dmyh",
        "colab_type": "code",
        "colab": {}
      },
      "cell_type": "code",
      "source": [
        "def split_train_test(data, test_ratio):\n",
        "    shuffled_indices = np.random.permutation(len(data))\n",
        "    test_set_size = int(len(data) * test_ratio)\n",
        "    test_indices = shuffled_indices[:test_set_size]\n",
        "    train_indices = shuffled_indices[test_set_size:]\n",
        "    return data.iloc[train_indices], data.iloc[test_indices]\n",
        "train_set, test_set = split_train_test(train_df, 0.2)\n",
        "  "
      ],
      "execution_count": 0,
      "outputs": []
    },
    {
      "metadata": {
        "id": "I5vvqC9rFKgg",
        "colab_type": "code",
        "colab": {}
      },
      "cell_type": "code",
      "source": [
        "dev_df_2 = train_set\n",
        "val_df_2 = test_set\n",
        "\n",
        "dev_y_2 = np.log1p(dev_df_2[\"totals.transactionRevenue\"].values)\n",
        "val_y_2 = np.log1p(val_df_2[\"totals.transactionRevenue\"].values)\n",
        "\n",
        "dev_X_2 = dev_df_2[cat_cols + num_cols] \n",
        "val_X_2 = val_df_2[cat_cols + num_cols] \n",
        "test_X_2 = test_df[cat_cols + num_cols] \n"
      ],
      "execution_count": 0,
      "outputs": []
    },
    {
      "metadata": {
        "id": "rbtRNlcJLkJA",
        "colab_type": "code",
        "outputId": "93a20061-a84c-4e32-c20b-c49f9033e3ff",
        "colab": {
          "base_uri": "https://localhost:8080/",
          "height": 34
        }
      },
      "cell_type": "code",
      "source": [
        "print(len(dev_df), \"train +\", len(val_df), \"test\")"
      ],
      "execution_count": 0,
      "outputs": [
        {
          "output_type": "stream",
          "text": [
            "765707 train + 137946 test\n"
          ],
          "name": "stdout"
        }
      ]
    },
    {
      "metadata": {
        "id": "AW2gDqMxLb14",
        "colab_type": "code",
        "outputId": "921b494a-4ebf-4f56-844f-05b3ed3ba459",
        "colab": {
          "base_uri": "https://localhost:8080/",
          "height": 34
        }
      },
      "cell_type": "code",
      "source": [
        "print(len(dev_df_2), \"train +\", len(val_df_2), \"test\")"
      ],
      "execution_count": 0,
      "outputs": [
        {
          "output_type": "stream",
          "text": [
            "722923 train + 180730 test\n"
          ],
          "name": "stdout"
        }
      ]
    },
    {
      "metadata": {
        "id": "UAnfOAPXLUNK",
        "colab_type": "code",
        "outputId": "cc3f1779-8bb4-4320-a3ac-ab528824e8e2",
        "colab": {
          "base_uri": "https://localhost:8080/",
          "height": 242
        }
      },
      "cell_type": "code",
      "source": [
        "pred_test_2, model_2, pred_val_2 = run_lgb2(dev_X_2, dev_y_2, val_X_2, val_y_2, test_X_2)"
      ],
      "execution_count": 0,
      "outputs": [
        {
          "output_type": "stream",
          "text": [
            "Training until validation scores don't improve for 100 rounds.\n",
            "[100]\tvalid_0's rmse: 1.85835\n",
            "[200]\tvalid_0's rmse: 1.76406\n",
            "[300]\tvalid_0's rmse: 1.71217\n",
            "[400]\tvalid_0's rmse: 1.68433\n",
            "[500]\tvalid_0's rmse: 1.66689\n",
            "[600]\tvalid_0's rmse: 1.6554\n",
            "[700]\tvalid_0's rmse: 1.64729\n",
            "[800]\tvalid_0's rmse: 1.64118\n",
            "[900]\tvalid_0's rmse: 1.63644\n",
            "[1000]\tvalid_0's rmse: 1.63348\n",
            "Did not meet early stopping. Best iteration is:\n",
            "[1000]\tvalid_0's rmse: 1.63348\n"
          ],
          "name": "stdout"
        }
      ]
    },
    {
      "metadata": {
        "id": "llk6JeIIdjuR",
        "colab_type": "code",
        "outputId": "1d785eda-7100-4a51-d4ec-2220d4526186",
        "colab": {
          "base_uri": "https://localhost:8080/",
          "height": 34
        }
      },
      "cell_type": "code",
      "source": [
        "from sklearn import metrics\n",
        "pred_val_2[pred_val_2<0] = 0\n",
        "val_pred_df = pd.DataFrame({\"fullVisitorId\":val_df_2[\"fullVisitorId\"].values})\n",
        "val_pred_df[\"transactionRevenue\"] = val_df_2[\"totals.transactionRevenue\"].values\n",
        "val_pred_df[\"PredictedRevenue\"] = np.expm1(pred_val_2)\n",
        "val_pred_df = val_pred_df.groupby(\"fullVisitorId\")[\"transactionRevenue\", \"PredictedRevenue\"].sum().reset_index()\n",
        "print(np.sqrt(metrics.mean_squared_error(np.log1p(val_pred_df[\"transactionRevenue\"].values), np.log1p(val_pred_df[\"PredictedRevenue\"].values))))"
      ],
      "execution_count": 0,
      "outputs": [
        {
          "output_type": "stream",
          "text": [
            "1.6212690372147571\n"
          ],
          "name": "stdout"
        }
      ]
    },
    {
      "metadata": {
        "id": "OqTn7XG3MAT5",
        "colab_type": "text"
      },
      "cell_type": "markdown",
      "source": [
        "Vi kan da konkludere med at denne måten for å trene modellen ikke var bedre enn å bare splitte dataen tilfeldig."
      ]
    },
    {
      "metadata": {
        "id": "U6jVQoVS02Qf",
        "colab_type": "text"
      },
      "cell_type": "markdown",
      "source": [
        "Til slutt ser vi på RandomizedSearchCV ved lightGBM for å finne ut om det er nødvendig å prøve å kjøre dataen på denne måten:"
      ]
    },
    {
      "metadata": {
        "id": "x8KzMOwzbN8e",
        "colab_type": "code",
        "colab": {}
      },
      "cell_type": "code",
      "source": [
        "from scipy.stats import randint\n",
        "from sklearn.model_selection import RandomizedSearchCV\n",
        "\n",
        "\n",
        "param_distribs = {'n_estimators': [250, 500, 750, 1000],\n",
        "               'max_depth':  [4, 5, 8, -1],\n",
        "               'num_leaves': [15, 31, 63, 127],\n",
        "               'subsample': [0.6, 0.7, 0.8, 1.0],\n",
        "               'colsample_bytree': [0.6, 0.7, 0.8, 1.0]}\n",
        "\n",
        "lightgbm_reg = lgb.LGBMRegressor(random_state=42)\n",
        "rnd_search_3 = RandomizedSearchCV(lightgbm_reg, param_distributions=param_distribs,\n",
        "                                n_iter=20, cv=10, scoring='neg_mean_squared_error', random_state=42)\n",
        "rnd_search_3.fit(val_X_4, val_y_4)"
      ],
      "execution_count": 0,
      "outputs": []
    },
    {
      "metadata": {
        "id": "dAl4mrDEaBDS",
        "colab_type": "code",
        "outputId": "87eb54b1-1d2e-4fda-ede3-81c83f8d7059",
        "colab": {
          "base_uri": "https://localhost:8080/",
          "height": 102
        }
      },
      "cell_type": "code",
      "source": [
        "rnd_search_3.best_params_"
      ],
      "execution_count": 0,
      "outputs": [
        {
          "output_type": "execute_result",
          "data": {
            "text/plain": [
              "{'colsample_bytree': 0.8,\n",
              " 'max_depth': 5,\n",
              " 'n_estimators': 250,\n",
              " 'num_leaves': 63,\n",
              " 'subsample': 1.0}"
            ]
          },
          "metadata": {
            "tags": []
          },
          "execution_count": 45
        }
      ]
    },
    {
      "metadata": {
        "colab_type": "code",
        "id": "1Sr0FDrr8ORH",
        "outputId": "384b26c3-fbe1-4a18-c521-7e580f7bedcd",
        "colab": {
          "base_uri": "https://localhost:8080/",
          "height": 119
        }
      },
      "cell_type": "code",
      "source": [
        "rnd_search_3.best_estimator_"
      ],
      "execution_count": 0,
      "outputs": [
        {
          "output_type": "execute_result",
          "data": {
            "text/plain": [
              "LGBMRegressor(boosting_type='gbdt', class_weight=None, colsample_bytree=0.8,\n",
              "       importance_type='split', learning_rate=0.1, max_depth=5,\n",
              "       min_child_samples=20, min_child_weight=0.001, min_split_gain=0.0,\n",
              "       n_estimators=250, n_jobs=-1, num_leaves=63, objective=None,\n",
              "       random_state=42, reg_alpha=0.0, reg_lambda=0.0, silent=True,\n",
              "       subsample=1.0, subsample_for_bin=200000, subsample_freq=0)"
            ]
          },
          "metadata": {
            "tags": []
          },
          "execution_count": 46
        }
      ]
    },
    {
      "metadata": {
        "id": "6aK2pw_SaM9O",
        "colab_type": "code",
        "outputId": "3f1c6460-e32d-4ebb-d629-be484aa889a0",
        "colab": {
          "base_uri": "https://localhost:8080/",
          "height": 397
        }
      },
      "cell_type": "code",
      "source": [
        "cvres = rnd_search_3.cv_results_\n",
        "for mean_score, params in zip(cvres[\"mean_test_score\"], cvres[\"params\"]):\n",
        "    print(np.sqrt(-mean_score), params)"
      ],
      "execution_count": 0,
      "outputs": [
        {
          "output_type": "stream",
          "text": [
            "1.6437059963860565 {'subsample': 0.7, 'num_leaves': 127, 'n_estimators': 250, 'max_depth': 4, 'colsample_bytree': 0.8}\n",
            "1.6510521704510466 {'subsample': 0.7, 'num_leaves': 31, 'n_estimators': 750, 'max_depth': 5, 'colsample_bytree': 0.7}\n",
            "1.6804243234001222 {'subsample': 0.6, 'num_leaves': 127, 'n_estimators': 1000, 'max_depth': 8, 'colsample_bytree': 0.7}\n",
            "1.6468983931290104 {'subsample': 1.0, 'num_leaves': 127, 'n_estimators': 500, 'max_depth': 4, 'colsample_bytree': 0.6}\n",
            "1.653254180656184 {'subsample': 0.8, 'num_leaves': 63, 'n_estimators': 750, 'max_depth': 5, 'colsample_bytree': 0.8}\n",
            "1.642313844017631 {'subsample': 1.0, 'num_leaves': 63, 'n_estimators': 250, 'max_depth': 5, 'colsample_bytree': 0.8}\n",
            "1.6804243234001222 {'subsample': 1.0, 'num_leaves': 127, 'n_estimators': 1000, 'max_depth': 8, 'colsample_bytree': 0.7}\n",
            "1.7224939323827513 {'subsample': 0.8, 'num_leaves': 127, 'n_estimators': 500, 'max_depth': -1, 'colsample_bytree': 0.8}\n",
            "1.6445901155894544 {'subsample': 0.6, 'num_leaves': 127, 'n_estimators': 250, 'max_depth': 5, 'colsample_bytree': 0.6}\n",
            "1.6635900288545946 {'subsample': 1.0, 'num_leaves': 63, 'n_estimators': 250, 'max_depth': -1, 'colsample_bytree': 0.8}\n",
            "1.6511790650425018 {'subsample': 0.8, 'num_leaves': 15, 'n_estimators': 1000, 'max_depth': 5, 'colsample_bytree': 0.7}\n",
            "1.643933686234388 {'subsample': 0.8, 'num_leaves': 31, 'n_estimators': 250, 'max_depth': 5, 'colsample_bytree': 0.6}\n",
            "1.6641772350127393 {'subsample': 0.7, 'num_leaves': 31, 'n_estimators': 750, 'max_depth': 8, 'colsample_bytree': 0.8}\n",
            "1.6507527344371353 {'subsample': 0.7, 'num_leaves': 31, 'n_estimators': 750, 'max_depth': 5, 'colsample_bytree': 0.6}\n",
            "1.653254180656184 {'subsample': 0.7, 'num_leaves': 127, 'n_estimators': 750, 'max_depth': 5, 'colsample_bytree': 0.8}\n",
            "1.6523448844446544 {'subsample': 0.7, 'num_leaves': 127, 'n_estimators': 250, 'max_depth': 8, 'colsample_bytree': 0.8}\n",
            "1.647248172383721 {'subsample': 0.6, 'num_leaves': 63, 'n_estimators': 500, 'max_depth': 4, 'colsample_bytree': 0.7}\n",
            "1.6684751999951277 {'subsample': 0.7, 'num_leaves': 63, 'n_estimators': 750, 'max_depth': 8, 'colsample_bytree': 0.7}\n",
            "1.6533397011534552 {'subsample': 0.6, 'num_leaves': 31, 'n_estimators': 500, 'max_depth': 8, 'colsample_bytree': 0.7}\n",
            "1.7448956497402877 {'subsample': 0.7, 'num_leaves': 127, 'n_estimators': 750, 'max_depth': -1, 'colsample_bytree': 0.8}\n"
          ],
          "name": "stdout"
        }
      ]
    },
    {
      "metadata": {
        "id": "68LsqVCTMMeI",
        "colab_type": "text"
      },
      "cell_type": "markdown",
      "source": [
        "Ut ifra mean_scoren som vi kommer fram til over, beslutter vi å forholde oss til det tidligere resultatet."
      ]
    },
    {
      "metadata": {
        "id": "SwO6n4zux_sP",
        "colab_type": "text"
      },
      "cell_type": "markdown",
      "source": [
        "## 7. Presentere resultatet"
      ]
    },
    {
      "metadata": {
        "id": "UlRbdA6XHGDz",
        "colab_type": "text"
      },
      "cell_type": "markdown",
      "source": [
        "I løpet av dette prosjektet har vi satt sammen en maskinlæringsalgoritme som kan estimere et beløp for den neste brukeren som besøker GStore. Vi har brukt tre ulike modeller for å estimere omsetningen; RandomForestRegressor, LightGBM og XGBoost. Det beste resultatet fikk vi ved å bruke LightGBM med hyperparametere som er finetunet ved hjelp av GridSearchCV. Resultatet ble **1.6122801276481271**, hvor XGBoost lå bak med 2. RandomForestRegression-metoden vår kom aldri fram til et resultat vi var fornøyde med, og derfor droppet vi den tidlig. Vi kunne fintunet modellen til å fungere med datasettet vårt, men vi valgte å prioritere LightGBM og XGBoost da dette ga oss et mer ønskelig resultat. \n",
        "\n",
        "Som vi har sett på feature importance ligger visitStartTime ganske høyt. Grunnen til dette kan være at ettersom omsetningen øker med tid vil det være en korrelasjon der. En annen grunn kan være at dette har med kundenes kjøpevaner å gjøre. Som oftest vil kunder kjøpe varer i løpet av ettermiddagen, og derfor er dette linket til omsetningen. \n",
        "\n",
        "For å forbedre scoren kunne vi ha fintunet hyperparamterene enda mer og eventuelt ryddet litt mer i datasettet, men med tanke på vår kunnskap og begrensede ressurser sier vi oss fornøyd med det resultatet vi har fått. Den kraftigste pcen prosjektet ble kjørt på var:\n",
        "* Macbook Pro(15-inch, 2017)\n",
        "* Processor - 2,8 GHz Intel Core i7\n",
        "* Memory - 16 GB\n",
        "* Graphics - Radeon Pro 555 2048 MB\n"
      ]
    },
    {
      "metadata": {
        "id": "yHBEXhBoyA3-",
        "colab_type": "text"
      },
      "cell_type": "markdown",
      "source": [
        "## 8. Publisere, observere og vedlikeholde systemet."
      ]
    },
    {
      "metadata": {
        "id": "Ohy0t_XBEMjr",
        "colab_type": "text"
      },
      "cell_type": "markdown",
      "source": [
        "Etter vi har kommet fram til svaret vårt kan Google Cloud (arrangørene av konkurransen) vurdere å bruke dataen vår i etterkant til sine nettsider. Ettersom prosjektet vårt ikke ligger i nærheten av de beste resultatene vil prosjektet mest sannsynlig ikke bli brukt til mer enn denne innleveringen. Konkurransen er open source så om andre bestemmer seg for å benytte koden vår til et framtidig prosjekt så har vi i hvert fall bidratt til noe. Om prosjektet skulle brukes videre må man ha revurdert hvordan prosjektet er satt opp, for eksempel ved å ta hensyn til ny data som kommer inn og vedlikeholde modellene slik at de plutselig ikke utsettes for overfitting eller underfitting.\n",
        "\n",
        "Alt i alt så har dette vært et lærerikt prosjekt hvor vi har fått mye innsikt i hvordan maskinlæring fungerer. \n"
      ]
    },
    {
      "metadata": {
        "id": "azXDN4n4LXAm",
        "colab_type": "text"
      },
      "cell_type": "markdown",
      "source": [
        "###Extra"
      ]
    },
    {
      "metadata": {
        "id": "CHeSTPsDsFaW",
        "colab_type": "text"
      },
      "cell_type": "markdown",
      "source": [
        "En Kaggle-deltaker fant et loophole som ga 0 i score, noe som gjorde at de måtte legge ut nye train- og test-sett. Her er linjen som gjorde dette mulig:"
      ]
    },
    {
      "metadata": {
        "id": "xYvcJh9GyDNQ",
        "colab_type": "code",
        "colab": {}
      },
      "cell_type": "code",
      "source": [
        "__import__('pandas').read_csv('../input/test_v2.csv', usecols=[4,8], dtype={'fullVisitorId': 'str'}, converters={'totals': lambda t: float(dict(eval(t))['transactionRevenue']) if 'transactionRevenue' in t else 0}).groupby(['fullVisitorId'])['totals'].sum().to_frame(name='PredictedLogRevenue').apply(__import__('numpy').log1p).to_csv('sub.csv')"
      ],
      "execution_count": 0,
      "outputs": []
    },
    {
      "metadata": {
        "id": "cTAI6-npfGqP",
        "colab_type": "text"
      },
      "cell_type": "markdown",
      "source": [
        "#Kilder\n",
        "* \"Hands on machine learning with Sckit learn and Tensorflow\" - Av Aurélien Géron, 2017\n",
        "* https://www.kaggle.com/c/ga-customer-revenue-prediction\n",
        "* https://www.kaggle.com/sudalairajkumar/simple-exploration-baseline-ga-customer-revenue\n",
        "* https://www.kaggle.com/julian3833/1-quick-start-read-csv-and-flatten-json-fields\n",
        "* https://www.kaggle.com/kabure/exploring-the-consumer-patterns-ml-pipeline\n",
        "* https://www.kaggle.com/artgor/eda-on-basic-data-and-lgb-in-progress\n",
        "* https://www.kaggle.com/paulorzp/perfect-score-one-line-without-semicolon\n",
        "* https://www.kaggle.com/smasar/tutorial-preprocessing-processing-evaluation/notebook\n",
        "* https://www.kaggle.com/smasar/tutorial-preprocessing-processing-evaluation\n",
        "* https://www.kaggle.com/julian3833/2-quick-study-lgbm-xgb-and-catboost-lb-1-66\n",
        "* https://stackoverflow.com\n",
        "* https://github.com/alu042/DAT158ML\n",
        "* https://github.com/HVL-ML/prosjekt-1-end-to-end-maskinlaeringsprosjekt-h181182\n",
        "* https://xgboost.readthedocs.io/en/latest/\n",
        "* https://lightgbm.readthedocs.io\n",
        "* https://scikit-learn.org/stable/modules/generated/sklearn.model_selection.GridSearchCV.html\n",
        "* https://scikit-learn.org/stable/modules/generated/sklearn.model_selection.RandomizedSearchCV.html\n"
      ]
    },
    {
      "metadata": {
        "id": "JU34_k_Uvd1a",
        "colab_type": "code",
        "colab": {}
      },
      "cell_type": "code",
      "source": [
        ""
      ],
      "execution_count": 0,
      "outputs": []
    }
  ]
}